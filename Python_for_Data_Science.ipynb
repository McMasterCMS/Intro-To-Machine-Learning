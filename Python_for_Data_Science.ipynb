{
  "nbformat": 4,
  "nbformat_minor": 0,
  "metadata": {
    "colab": {
      "name": "Python for Data Science",
      "provenance": [],
      "collapsed_sections": []
    },
    "kernelspec": {
      "name": "python3",
      "display_name": "Python 3"
    },
    "language_info": {
      "name": "python"
    }
  },
  "cells": [
    {
      "cell_type": "markdown",
      "metadata": {
        "id": "-PdsiapBqiKX"
      },
      "source": [
        "## Variables\n",
        "A box for storing data"
      ]
    },
    {
      "cell_type": "code",
      "metadata": {
        "colab": {
          "base_uri": "https://localhost:8080/"
        },
        "id": "Zyo5rPOzpd-j",
        "outputId": "b70d9816-2753-4656-c6dc-c3f337b28ff9"
      },
      "source": [
        "# perform operations\n",
        "a = 10\n",
        "b = 20\n",
        "a+b"
      ],
      "execution_count": null,
      "outputs": [
        {
          "output_type": "execute_result",
          "data": {
            "text/plain": [
              "30"
            ]
          },
          "metadata": {},
          "execution_count": 4
        }
      ]
    },
    {
      "cell_type": "code",
      "metadata": {
        "colab": {
          "base_uri": "https://localhost:8080/",
          "height": 36
        },
        "id": "gauNtp5xrIbV",
        "outputId": "e48b623b-3717-4e5b-c697-3f23fb0facd8"
      },
      "source": [
        "# store strings\n",
        "c = \"Hello world\"\n",
        "d = \" Have a great day\"\n",
        "c + d"
      ],
      "execution_count": null,
      "outputs": [
        {
          "output_type": "execute_result",
          "data": {
            "application/vnd.google.colaboratory.intrinsic+json": {
              "type": "string"
            },
            "text/plain": [
              "'Hello world Have a great day'"
            ]
          },
          "metadata": {},
          "execution_count": 9
        }
      ]
    },
    {
      "cell_type": "code",
      "metadata": {
        "colab": {
          "base_uri": "https://localhost:8080/",
          "height": 190
        },
        "id": "7esz2huHsSTa",
        "outputId": "fcdadeb5-ec2d-471e-ac1b-d4422aa83a0c"
      },
      "source": [
        "# different variable types\n",
        "a + c"
      ],
      "execution_count": null,
      "outputs": [
        {
          "output_type": "error",
          "ename": "TypeError",
          "evalue": "ignored",
          "traceback": [
            "\u001b[0;31m---------------------------------------------------------------------------\u001b[0m",
            "\u001b[0;31mTypeError\u001b[0m                                 Traceback (most recent call last)",
            "\u001b[0;32m<ipython-input-7-35867a84d95c>\u001b[0m in \u001b[0;36m<module>\u001b[0;34m()\u001b[0m\n\u001b[1;32m      1\u001b[0m \u001b[0;31m# different variable types\u001b[0m\u001b[0;34m\u001b[0m\u001b[0;34m\u001b[0m\u001b[0;34m\u001b[0m\u001b[0m\n\u001b[0;32m----> 2\u001b[0;31m \u001b[0ma\u001b[0m \u001b[0;34m+\u001b[0m \u001b[0mc\u001b[0m\u001b[0;34m\u001b[0m\u001b[0;34m\u001b[0m\u001b[0m\n\u001b[0m",
            "\u001b[0;31mTypeError\u001b[0m: unsupported operand type(s) for +: 'int' and 'str'"
          ]
        }
      ]
    },
    {
      "cell_type": "markdown",
      "metadata": {
        "id": "wT-93-m2r6wc"
      },
      "source": [
        "## Lists\n",
        "\n",
        "A box for storing multiple data\n"
      ]
    },
    {
      "cell_type": "code",
      "metadata": {
        "colab": {
          "base_uri": "https://localhost:8080/"
        },
        "id": "3-jOsSgarS9Q",
        "outputId": "af3c2b40-03c8-4a8f-bb3c-64210dd3d312"
      },
      "source": [
        "# creating a list\n",
        "e = [1,2,3,4]\n",
        "e"
      ],
      "execution_count": null,
      "outputs": [
        {
          "output_type": "execute_result",
          "data": {
            "text/plain": [
              "[1, 2, 3, 4]"
            ]
          },
          "metadata": {},
          "execution_count": 11
        }
      ]
    },
    {
      "cell_type": "code",
      "metadata": {
        "colab": {
          "base_uri": "https://localhost:8080/"
        },
        "id": "njCTznwXt-HQ",
        "outputId": "9d7bdd21-c2d6-4937-f269-c3b589de2d62"
      },
      "source": [
        "# accessing items in a list\n",
        "e[0]"
      ],
      "execution_count": null,
      "outputs": [
        {
          "output_type": "execute_result",
          "data": {
            "text/plain": [
              "1"
            ]
          },
          "metadata": {},
          "execution_count": 12
        }
      ]
    },
    {
      "cell_type": "code",
      "metadata": {
        "colab": {
          "base_uri": "https://localhost:8080/",
          "height": 36
        },
        "id": "yDYnsCbvucuM",
        "outputId": "ca3702d7-3915-4c17-f4d8-f86a4c843eb5"
      },
      "source": [
        "# nested lists\n",
        "f = [[1,2,3], \"Hello\", 2021]\n",
        "f[1]"
      ],
      "execution_count": null,
      "outputs": [
        {
          "output_type": "execute_result",
          "data": {
            "application/vnd.google.colaboratory.intrinsic+json": {
              "type": "string"
            },
            "text/plain": [
              "'Hello'"
            ]
          },
          "metadata": {},
          "execution_count": 19
        }
      ]
    },
    {
      "cell_type": "code",
      "metadata": {
        "colab": {
          "base_uri": "https://localhost:8080/"
        },
        "id": "gT4prVEKvH4t",
        "outputId": "c8441c05-c4ea-4fe8-8faa-20f13a9ac128"
      },
      "source": [
        "# length of the list\n",
        "len(f)"
      ],
      "execution_count": null,
      "outputs": [
        {
          "output_type": "execute_result",
          "data": {
            "text/plain": [
              "3"
            ]
          },
          "metadata": {},
          "execution_count": 22
        }
      ]
    },
    {
      "cell_type": "markdown",
      "metadata": {
        "id": "zK3dMQqUv3t6"
      },
      "source": [
        "## Arrays\n",
        "\n",
        "Similar to a list, but for data science\n"
      ]
    },
    {
      "cell_type": "code",
      "metadata": {
        "id": "aXvVjN3ixaOd"
      },
      "source": [
        "#library for arrays\n",
        "import numpy as np"
      ],
      "execution_count": null,
      "outputs": []
    },
    {
      "cell_type": "code",
      "metadata": {
        "colab": {
          "base_uri": "https://localhost:8080/"
        },
        "id": "PLrnn_GxvinN",
        "outputId": "d96533e8-a9e7-44a2-bf59-0f421c0aabee"
      },
      "source": [
        "# 1D array \n",
        "g = [1,2,3,4]\n",
        "np.array(g)"
      ],
      "execution_count": null,
      "outputs": [
        {
          "output_type": "execute_result",
          "data": {
            "text/plain": [
              "array([1, 2, 3, 4])"
            ]
          },
          "metadata": {},
          "execution_count": 29
        }
      ]
    },
    {
      "cell_type": "code",
      "metadata": {
        "colab": {
          "base_uri": "https://localhost:8080/"
        },
        "id": "o3KwahmXwo6k",
        "outputId": "be8b8606-3569-4b04-df27-74d7a714752a"
      },
      "source": [
        "# 2D array\n",
        "matrix1 = [[1,2,3],[4,5,6],[7,8,9]]\n",
        "np.array(matrix1)"
      ],
      "execution_count": null,
      "outputs": [
        {
          "output_type": "execute_result",
          "data": {
            "text/plain": [
              "array([[1, 2, 3],\n",
              "       [4, 5, 6],\n",
              "       [7, 8, 9]])"
            ]
          },
          "metadata": {},
          "execution_count": 31
        }
      ]
    },
    {
      "cell_type": "code",
      "metadata": {
        "colab": {
          "base_uri": "https://localhost:8080/"
        },
        "id": "pOUEOL4BxKQQ",
        "outputId": "8183fa90-6138-4195-c152-984bd3cf7aaf"
      },
      "source": [
        "# random array\n",
        "h = np.random.randint(-100, 100, (3,3))\n",
        "h"
      ],
      "execution_count": null,
      "outputs": [
        {
          "output_type": "execute_result",
          "data": {
            "text/plain": [
              "array([[ 31, -17, -59],\n",
              "       [-55,  70,  21],\n",
              "       [ 90,  65, -85]])"
            ]
          },
          "metadata": {},
          "execution_count": 48
        }
      ]
    },
    {
      "cell_type": "code",
      "metadata": {
        "colab": {
          "base_uri": "https://localhost:8080/"
        },
        "id": "y762dAf-x0P5",
        "outputId": "6adef26a-2810-4115-c5a5-36cf55379245"
      },
      "source": [
        "# shape of the array\n",
        "h.shape"
      ],
      "execution_count": null,
      "outputs": [
        {
          "output_type": "execute_result",
          "data": {
            "text/plain": [
              "(3, 3)"
            ]
          },
          "metadata": {},
          "execution_count": 45
        }
      ]
    },
    {
      "cell_type": "code",
      "metadata": {
        "colab": {
          "base_uri": "https://localhost:8080/"
        },
        "id": "70laLPz001BQ",
        "outputId": "5db151a2-ba56-4cf7-de0b-0bf7b647cfbd"
      },
      "source": [
        "# data type in the array\n",
        "h.dtype"
      ],
      "execution_count": null,
      "outputs": [
        {
          "output_type": "execute_result",
          "data": {
            "text/plain": [
              "dtype('float64')"
            ]
          },
          "metadata": {},
          "execution_count": 46
        }
      ]
    },
    {
      "cell_type": "markdown",
      "metadata": {
        "id": "wKbSU7zT1PER"
      },
      "source": [
        "## Dataframes\n",
        "\n",
        "Tables of data"
      ]
    },
    {
      "cell_type": "code",
      "metadata": {
        "id": "oC09BxZE94l0"
      },
      "source": [
        "# library for dataframes\n",
        "import pandas as pd"
      ],
      "execution_count": null,
      "outputs": []
    },
    {
      "cell_type": "code",
      "metadata": {
        "id": "OfjvMTv21CWJ"
      },
      "source": [
        "rows= ['A', 'B', 'C', 'D', 'E'] # row labels\n",
        "columns= ['W', 'X', 'Y', 'Z'] # column labels"
      ],
      "execution_count": null,
      "outputs": []
    },
    {
      "cell_type": "code",
      "metadata": {
        "colab": {
          "base_uri": "https://localhost:8080/"
        },
        "id": "VV6PFMr28VNT",
        "outputId": "812b96f8-3dc7-426c-83cf-d3b372e483e4"
      },
      "source": [
        "# create an array\n",
        "data = np.random.randint(-100,100,(5,4))\n",
        "data"
      ],
      "execution_count": null,
      "outputs": [
        {
          "output_type": "execute_result",
          "data": {
            "text/plain": [
              "array([[  61,  -52, -100,  -67],\n",
              "       [ -74,   62,  -30,   83],\n",
              "       [  42,   18,  -45,   18],\n",
              "       [-100,   46,   -3,   54],\n",
              "       [ -86,   78,   94,  -97]])"
            ]
          },
          "metadata": {},
          "execution_count": 53
        }
      ]
    },
    {
      "cell_type": "code",
      "metadata": {
        "colab": {
          "base_uri": "https://localhost:8080/",
          "height": 206
        },
        "id": "xRwb_Hmc8ZdV",
        "outputId": "95c14641-5a55-4b22-8a51-6e49ff295bc1"
      },
      "source": [
        "# convert array to table\n",
        "df = pd.DataFrame(data,rows,columns)\n",
        "df"
      ],
      "execution_count": null,
      "outputs": [
        {
          "output_type": "execute_result",
          "data": {
            "text/html": [
              "<div>\n",
              "<style scoped>\n",
              "    .dataframe tbody tr th:only-of-type {\n",
              "        vertical-align: middle;\n",
              "    }\n",
              "\n",
              "    .dataframe tbody tr th {\n",
              "        vertical-align: top;\n",
              "    }\n",
              "\n",
              "    .dataframe thead th {\n",
              "        text-align: right;\n",
              "    }\n",
              "</style>\n",
              "<table border=\"1\" class=\"dataframe\">\n",
              "  <thead>\n",
              "    <tr style=\"text-align: right;\">\n",
              "      <th></th>\n",
              "      <th>W</th>\n",
              "      <th>X</th>\n",
              "      <th>Y</th>\n",
              "      <th>Z</th>\n",
              "    </tr>\n",
              "  </thead>\n",
              "  <tbody>\n",
              "    <tr>\n",
              "      <th>A</th>\n",
              "      <td>61</td>\n",
              "      <td>-52</td>\n",
              "      <td>-100</td>\n",
              "      <td>-67</td>\n",
              "    </tr>\n",
              "    <tr>\n",
              "      <th>B</th>\n",
              "      <td>-74</td>\n",
              "      <td>62</td>\n",
              "      <td>-30</td>\n",
              "      <td>83</td>\n",
              "    </tr>\n",
              "    <tr>\n",
              "      <th>C</th>\n",
              "      <td>42</td>\n",
              "      <td>18</td>\n",
              "      <td>-45</td>\n",
              "      <td>18</td>\n",
              "    </tr>\n",
              "    <tr>\n",
              "      <th>D</th>\n",
              "      <td>-100</td>\n",
              "      <td>46</td>\n",
              "      <td>-3</td>\n",
              "      <td>54</td>\n",
              "    </tr>\n",
              "    <tr>\n",
              "      <th>E</th>\n",
              "      <td>-86</td>\n",
              "      <td>78</td>\n",
              "      <td>94</td>\n",
              "      <td>-97</td>\n",
              "    </tr>\n",
              "  </tbody>\n",
              "</table>\n",
              "</div>"
            ],
            "text/plain": [
              "     W   X    Y   Z\n",
              "A   61 -52 -100 -67\n",
              "B  -74  62  -30  83\n",
              "C   42  18  -45  18\n",
              "D -100  46   -3  54\n",
              "E  -86  78   94 -97"
            ]
          },
          "metadata": {},
          "execution_count": 59
        }
      ]
    },
    {
      "cell_type": "code",
      "metadata": {
        "colab": {
          "base_uri": "https://localhost:8080/",
          "height": 206
        },
        "id": "dk-6c4Ig9zzu",
        "outputId": "e38a5be2-af0c-4e21-8124-3529ad699682"
      },
      "source": [
        "#add a new column\n",
        "df['new'] = df['W'] + df['Y']\n",
        "df"
      ],
      "execution_count": null,
      "outputs": [
        {
          "output_type": "execute_result",
          "data": {
            "text/html": [
              "<div>\n",
              "<style scoped>\n",
              "    .dataframe tbody tr th:only-of-type {\n",
              "        vertical-align: middle;\n",
              "    }\n",
              "\n",
              "    .dataframe tbody tr th {\n",
              "        vertical-align: top;\n",
              "    }\n",
              "\n",
              "    .dataframe thead th {\n",
              "        text-align: right;\n",
              "    }\n",
              "</style>\n",
              "<table border=\"1\" class=\"dataframe\">\n",
              "  <thead>\n",
              "    <tr style=\"text-align: right;\">\n",
              "      <th></th>\n",
              "      <th>W</th>\n",
              "      <th>X</th>\n",
              "      <th>Y</th>\n",
              "      <th>Z</th>\n",
              "      <th>new</th>\n",
              "    </tr>\n",
              "  </thead>\n",
              "  <tbody>\n",
              "    <tr>\n",
              "      <th>A</th>\n",
              "      <td>61</td>\n",
              "      <td>-52</td>\n",
              "      <td>-100</td>\n",
              "      <td>-67</td>\n",
              "      <td>-39</td>\n",
              "    </tr>\n",
              "    <tr>\n",
              "      <th>B</th>\n",
              "      <td>-74</td>\n",
              "      <td>62</td>\n",
              "      <td>-30</td>\n",
              "      <td>83</td>\n",
              "      <td>-104</td>\n",
              "    </tr>\n",
              "    <tr>\n",
              "      <th>C</th>\n",
              "      <td>42</td>\n",
              "      <td>18</td>\n",
              "      <td>-45</td>\n",
              "      <td>18</td>\n",
              "      <td>-3</td>\n",
              "    </tr>\n",
              "    <tr>\n",
              "      <th>D</th>\n",
              "      <td>-100</td>\n",
              "      <td>46</td>\n",
              "      <td>-3</td>\n",
              "      <td>54</td>\n",
              "      <td>-103</td>\n",
              "    </tr>\n",
              "    <tr>\n",
              "      <th>E</th>\n",
              "      <td>-86</td>\n",
              "      <td>78</td>\n",
              "      <td>94</td>\n",
              "      <td>-97</td>\n",
              "      <td>8</td>\n",
              "    </tr>\n",
              "  </tbody>\n",
              "</table>\n",
              "</div>"
            ],
            "text/plain": [
              "     W   X    Y   Z  new\n",
              "A   61 -52 -100 -67  -39\n",
              "B  -74  62  -30  83 -104\n",
              "C   42  18  -45  18   -3\n",
              "D -100  46   -3  54 -103\n",
              "E  -86  78   94 -97    8"
            ]
          },
          "metadata": {},
          "execution_count": 61
        }
      ]
    },
    {
      "cell_type": "markdown",
      "metadata": {
        "id": "VrtHnxmBbqND"
      },
      "source": [
        "## If Statements\n",
        "\n",
        "Comparing stuff"
      ]
    },
    {
      "cell_type": "code",
      "metadata": {
        "colab": {
          "base_uri": "https://localhost:8080/"
        },
        "id": "2M_3obkpebVR",
        "outputId": "42828a8f-8a73-4702-c911-2aa278203c5b"
      },
      "source": [
        "x,y = 1,2\n",
        "\n",
        "if x > y:\n",
        "  print(\"x is greater than y\")\n",
        "elif x < y:\n",
        "  print(\"x is less than y\")\n",
        "else:\n",
        "  print(\"x is equal to y\")"
      ],
      "execution_count": 36,
      "outputs": [
        {
          "output_type": "stream",
          "name": "stdout",
          "text": [
            "x is less than y\n"
          ]
        }
      ]
    },
    {
      "cell_type": "code",
      "metadata": {
        "colab": {
          "base_uri": "https://localhost:8080/"
        },
        "id": "coha0EQ-b9O3",
        "outputId": "7e2641f3-afd3-462f-f910-75f00a748916"
      },
      "source": [
        "#To umbrella or not to umbrella\n",
        "raining = False\n",
        "if raining == True:\n",
        "  print(\"Take an umbrella\")\n",
        "else:\n",
        "  print(\"No umbrella needed\")"
      ],
      "execution_count": 27,
      "outputs": [
        {
          "output_type": "stream",
          "name": "stdout",
          "text": [
            "No umbrella needed\n"
          ]
        }
      ]
    },
    {
      "cell_type": "code",
      "metadata": {
        "colab": {
          "base_uri": "https://localhost:8080/"
        },
        "id": "LgAFnwbVd2m6",
        "outputId": "e2d1983e-1223-446b-f238-d8f823d6c8e1"
      },
      "source": [
        "#another way\n",
        "if raining:\n",
        "  print(\"Take an umbrella\")\n",
        "else:\n",
        "  print(\"No umbrella needed\")"
      ],
      "execution_count": 29,
      "outputs": [
        {
          "output_type": "stream",
          "name": "stdout",
          "text": [
            "No umbrella needed\n"
          ]
        }
      ]
    },
    {
      "cell_type": "markdown",
      "metadata": {
        "id": "gdgEppNsZ99z"
      },
      "source": [
        "## Functions\n",
        "\n",
        "Recyclable code"
      ]
    },
    {
      "cell_type": "code",
      "metadata": {
        "id": "du1hpJnDY6xW"
      },
      "source": [
        "#simple example\n",
        "def addTwoItems(x,y):\n",
        "  sum = x+y\n",
        "  return sum"
      ],
      "execution_count": 21,
      "outputs": []
    },
    {
      "cell_type": "code",
      "metadata": {
        "colab": {
          "base_uri": "https://localhost:8080/"
        },
        "id": "HTK9P_uPagqk",
        "outputId": "ea32d1c0-8477-4fc2-dafd-04fcbc068581"
      },
      "source": [
        "addTwoItems(4,5)"
      ],
      "execution_count": 20,
      "outputs": [
        {
          "output_type": "execute_result",
          "data": {
            "text/plain": [
              "9"
            ]
          },
          "metadata": {},
          "execution_count": 20
        }
      ]
    },
    {
      "cell_type": "code",
      "metadata": {
        "colab": {
          "base_uri": "https://localhost:8080/",
          "height": 36
        },
        "id": "ekLtCxVbapZN",
        "outputId": "020c3fa8-6e97-41ce-a1b3-cb0d3a6d9d4c"
      },
      "source": [
        "addTwoItems(\"Kevin\",\" is hardstuck gold\")"
      ],
      "execution_count": 24,
      "outputs": [
        {
          "output_type": "execute_result",
          "data": {
            "application/vnd.google.colaboratory.intrinsic+json": {
              "type": "string"
            },
            "text/plain": [
              "'Kevin is hardstuck gold'"
            ]
          },
          "metadata": {},
          "execution_count": 24
        }
      ]
    },
    {
      "cell_type": "code",
      "metadata": {
        "id": "TorMwoJjoR2i"
      },
      "source": [
        "your_score = 0\n",
        "computer_score=0"
      ],
      "execution_count": 98,
      "outputs": []
    },
    {
      "cell_type": "code",
      "metadata": {
        "id": "4LOJffMfbFNW"
      },
      "source": [
        "#advanced example\n",
        "import random\n",
        "\n",
        "def RPS():\n",
        "  global your_score\n",
        "  global computer_score\n",
        "\n",
        "  #player choices\n",
        "  user_input = input(\"Enter a choice (rock, paper, scissors): \")\n",
        "  options = [\"rock\", \"paper\", \"scissors\"]\n",
        "  computer_input = random.choice(options)\n",
        "\n",
        "  print(f\"\\nYou chose {user_input}, computer chose {computer_input}.\\n\")\n",
        "\n",
        "  #dealing with ties\n",
        "  if user_input == computer_input:\n",
        "    print(f\"Both players selected {user_input}. It's a tie!\")\n",
        "\n",
        "  #if you pick rock\n",
        "  elif user_input == \"rock\":\n",
        "    if computer_input == \"scissors\":\n",
        "      print(\"Rock smashes scissors! You win!\")\n",
        "      your_score += 1\n",
        "    else:\n",
        "      print(\"Paper covers rock! You lose.\")\n",
        "      computer_score +=1\n",
        "\n",
        "  #if you pick paper\n",
        "  elif user_input == \"paper\":\n",
        "    if computer_input == \"rock\":\n",
        "      print(\"Paper covers rock! You win!\")\n",
        "      your_score += 1\n",
        "    else:\n",
        "      print(\"Scissors cuts paper! You lose.\")\n",
        "      computer_score +=1\n",
        "\n",
        "  #if you pick scissors\n",
        "  elif user_input == \"scissors\":\n",
        "    if computer_input == \"paper\":\n",
        "      print(\"Scissors cuts paper! You win!\")\n",
        "      your_score += 1\n",
        "    else:\n",
        "      print(\"Rock smashes scissors! You lose.\")\n",
        "      computer_score +=1\n",
        "  \n",
        "  #keep score\n",
        "  print(f\"\\nYou:{your_score} \\nComputer:{computer_score}\")"
      ],
      "execution_count": 115,
      "outputs": []
    },
    {
      "cell_type": "code",
      "metadata": {
        "colab": {
          "base_uri": "https://localhost:8080/"
        },
        "id": "WjH02ddKhwBo",
        "outputId": "9fe6278d-be41-4e4d-c3a6-be6877f394fb"
      },
      "source": [
        "RPS()"
      ],
      "execution_count": 116,
      "outputs": [
        {
          "output_type": "stream",
          "name": "stdout",
          "text": [
            "Enter a choice (rock, paper, scissors): rock\n",
            "\n",
            "You chose rock, computer chose paper.\n",
            "\n",
            "Paper covers rock! You lose.\n",
            "\n",
            "You:5 \n",
            "Computer:2\n"
          ]
        }
      ]
    },
    {
      "cell_type": "code",
      "metadata": {
        "id": "z1nQRHcCr3BQ"
      },
      "source": [
        ""
      ],
      "execution_count": 116,
      "outputs": []
    }
  ]
}