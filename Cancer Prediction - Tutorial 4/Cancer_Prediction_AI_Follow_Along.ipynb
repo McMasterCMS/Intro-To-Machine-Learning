{
  "nbformat": 4,
  "nbformat_minor": 0,
  "metadata": {
    "colab": {
      "name": "Cancer Prediction AI - Follow Along.ipynb",
      "provenance": [],
      "collapsed_sections": []
    },
    "kernelspec": {
      "name": "python3",
      "display_name": "Python 3"
    },
    "accelerator": "GPU"
  },
  "cells": [
    {
      "cell_type": "markdown",
      "metadata": {
        "id": "iSOzXOky9dyn"
      },
      "source": [
        "## **Data Preview**\r\n",
        "\r\n",
        "### Breast cancer wisconsin (diagnostic) dataset\r\n",
        "--------------------------------------------\r\n",
        "\r\n",
        "**Data Set Characteristics:**\r\n",
        "\r\n",
        "    :Number of Instances: 569\r\n",
        "\r\n",
        "    :Number of Attributes: 30 numeric, predictive attributes and the class\r\n",
        "\r\n",
        "    :Attribute Information:\r\n",
        "        - radius (mean of distances from center to points on the perimeter)\r\n",
        "        - texture (standard deviation of gray-scale values)\r\n",
        "        - perimeter\r\n",
        "        - area\r\n",
        "        - smoothness (local variation in radius lengths)\r\n",
        "        - compactness (perimeter^2 / area - 1.0)\r\n",
        "        - concavity (severity of concave portions of the contour)\r\n",
        "        - concave points (number of concave portions of the contour)\r\n",
        "        - symmetry \r\n",
        "        - fractal dimension (\"coastline approximation\" - 1)\r\n",
        "\r\n",
        "        The mean, standard error, and \"worst\" or largest (mean of the three\r\n",
        "        largest values) of these features were computed for each image,\r\n",
        "        resulting in 30 features.  For instance, field 3 is Mean Radius, field\r\n",
        "        13 is Radius SE, field 23 is Worst Radius.\r\n",
        "\r\n",
        "        - class:\r\n",
        "                - WDBC-Malignant\r\n",
        "                - WDBC-Benign\r\n",
        "\r\n",
        "    :Summary Statistics:\r\n",
        "\r\n",
        "    ===================================== ====== ======\r\n",
        "                                           Min    Max\r\n",
        "    ===================================== ====== ======\r\n",
        "    radius (mean):                        6.981  28.11\r\n",
        "    texture (mean):                       9.71   39.28\r\n",
        "    perimeter (mean):                     43.79  188.5\r\n",
        "    area (mean):                          143.5  2501.0\r\n",
        "    smoothness (mean):                    0.053  0.163\r\n",
        "    compactness (mean):                   0.019  0.345\r\n",
        "    concavity (mean):                     0.0    0.427\r\n",
        "    concave points (mean):                0.0    0.201\r\n",
        "    symmetry (mean):                      0.106  0.304\r\n",
        "    fractal dimension (mean):             0.05   0.097\r\n",
        "    radius (standard error):              0.112  2.873\r\n",
        "    texture (standard error):             0.36   4.885\r\n",
        "    perimeter (standard error):           0.757  21.98\r\n",
        "    area (standard error):                6.802  542.2\r\n",
        "    smoothness (standard error):          0.002  0.031\r\n",
        "    compactness (standard error):         0.002  0.135\r\n",
        "    concavity (standard error):           0.0    0.396\r\n",
        "    concave points (standard error):      0.0    0.053\r\n",
        "    symmetry (standard error):            0.008  0.079\r\n",
        "    fractal dimension (standard error):   0.001  0.03\r\n",
        "    radius (worst):                       7.93   36.04\r\n",
        "    texture (worst):                      12.02  49.54\r\n",
        "    perimeter (worst):                    50.41  251.2\r\n",
        "    area (worst):                         185.2  4254.0\r\n",
        "    smoothness (worst):                   0.071  0.223\r\n",
        "    compactness (worst):                  0.027  1.058\r\n",
        "    concavity (worst):                    0.0    1.252\r\n",
        "    concave points (worst):               0.0    0.291\r\n",
        "    symmetry (worst):                     0.156  0.664\r\n",
        "    fractal dimension (worst):            0.055  0.208\r\n",
        "    ===================================== ====== ======\r\n",
        "\r\n",
        "    :Missing Attribute Values: None\r\n",
        "\r\n",
        "    :Class Distribution: 212 - Malignant, 357 - Benign\r\n",
        "\r\n",
        "    :Creator:  Dr. William H. Wolberg, W. Nick Street, Olvi L. Mangasarian\r\n",
        "\r\n",
        "    :Donor: Nick Street\r\n",
        "\r\n",
        "    :Date: November, 1995\r\n",
        "\r\n",
        "This is a copy of UCI ML Breast Cancer Wisconsin (Diagnostic) datasets.\r\n",
        "https://goo.gl/U2Uwz2\r\n",
        "\r\n",
        "Dataset Citations\r\n",
        "\r\n",
        "   - W.N. Street, W.H. Wolberg and O.L. Mangasarian. Nuclear feature extraction \r\n",
        "     for breast tumor diagnosis. IS&T/SPIE 1993 International Symposium on \r\n",
        "     Electronic Imaging: Science and Technology, volume 1905, pages 861-870,\r\n",
        "     San Jose, CA, 1993.\r\n",
        "   - O.L. Mangasarian, W.N. Street and W.H. Wolberg. Breast cancer diagnosis and \r\n",
        "     prognosis via linear programming. Operations Research, 43(4), pages 570-577, \r\n",
        "     July-August 1995.\r\n",
        "   - W.H. Wolberg, W.N. Street, and O.L. Mangasarian. Machine learning techniques\r\n",
        "     to diagnose breast cancer from fine-needle aspirates. Cancer Letters 77 (1994) \r\n",
        "     163-171."
      ]
    },
    {
      "cell_type": "markdown",
      "metadata": {
        "id": "2b028_rWCFuK"
      },
      "source": [
        "#**Load data** "
      ]
    },
    {
      "cell_type": "code",
      "metadata": {
        "id": "EWYFuBZ_CNyj"
      },
      "source": [
        "import pandas as pd\r\n",
        "import numpy as np"
      ],
      "execution_count": 28,
      "outputs": []
    },
    {
      "cell_type": "code",
      "metadata": {
        "id": "wx9i3zqawXcD"
      },
      "source": [
        "df = pd.read_csv('cancer_classification.csv')"
      ],
      "execution_count": 29,
      "outputs": []
    },
    {
      "cell_type": "code",
      "metadata": {
        "colab": {
          "base_uri": "https://localhost:8080/",
          "height": 261
        },
        "id": "38V4Ucuiwabn",
        "outputId": "e80ebe38-afb5-463b-ef39-ffc892b1f832"
      },
      "source": [
        "df.head()"
      ],
      "execution_count": 30,
      "outputs": [
        {
          "output_type": "execute_result",
          "data": {
            "text/html": [
              "<div>\n",
              "<style scoped>\n",
              "    .dataframe tbody tr th:only-of-type {\n",
              "        vertical-align: middle;\n",
              "    }\n",
              "\n",
              "    .dataframe tbody tr th {\n",
              "        vertical-align: top;\n",
              "    }\n",
              "\n",
              "    .dataframe thead th {\n",
              "        text-align: right;\n",
              "    }\n",
              "</style>\n",
              "<table border=\"1\" class=\"dataframe\">\n",
              "  <thead>\n",
              "    <tr style=\"text-align: right;\">\n",
              "      <th></th>\n",
              "      <th>mean radius</th>\n",
              "      <th>mean texture</th>\n",
              "      <th>mean perimeter</th>\n",
              "      <th>mean area</th>\n",
              "      <th>mean smoothness</th>\n",
              "      <th>mean compactness</th>\n",
              "      <th>mean concavity</th>\n",
              "      <th>mean concave points</th>\n",
              "      <th>mean symmetry</th>\n",
              "      <th>mean fractal dimension</th>\n",
              "      <th>radius error</th>\n",
              "      <th>texture error</th>\n",
              "      <th>perimeter error</th>\n",
              "      <th>area error</th>\n",
              "      <th>smoothness error</th>\n",
              "      <th>compactness error</th>\n",
              "      <th>concavity error</th>\n",
              "      <th>concave points error</th>\n",
              "      <th>symmetry error</th>\n",
              "      <th>fractal dimension error</th>\n",
              "      <th>worst radius</th>\n",
              "      <th>worst texture</th>\n",
              "      <th>worst perimeter</th>\n",
              "      <th>worst area</th>\n",
              "      <th>worst smoothness</th>\n",
              "      <th>worst compactness</th>\n",
              "      <th>worst concavity</th>\n",
              "      <th>worst concave points</th>\n",
              "      <th>worst symmetry</th>\n",
              "      <th>worst fractal dimension</th>\n",
              "      <th>benign_0__mal_1</th>\n",
              "    </tr>\n",
              "  </thead>\n",
              "  <tbody>\n",
              "    <tr>\n",
              "      <th>0</th>\n",
              "      <td>17.99</td>\n",
              "      <td>10.38</td>\n",
              "      <td>122.80</td>\n",
              "      <td>1001.0</td>\n",
              "      <td>0.11840</td>\n",
              "      <td>0.27760</td>\n",
              "      <td>0.3001</td>\n",
              "      <td>0.14710</td>\n",
              "      <td>0.2419</td>\n",
              "      <td>0.07871</td>\n",
              "      <td>1.0950</td>\n",
              "      <td>0.9053</td>\n",
              "      <td>8.589</td>\n",
              "      <td>153.40</td>\n",
              "      <td>0.006399</td>\n",
              "      <td>0.04904</td>\n",
              "      <td>0.05373</td>\n",
              "      <td>0.01587</td>\n",
              "      <td>0.03003</td>\n",
              "      <td>0.006193</td>\n",
              "      <td>25.38</td>\n",
              "      <td>17.33</td>\n",
              "      <td>184.60</td>\n",
              "      <td>2019.0</td>\n",
              "      <td>0.1622</td>\n",
              "      <td>0.6656</td>\n",
              "      <td>0.7119</td>\n",
              "      <td>0.2654</td>\n",
              "      <td>0.4601</td>\n",
              "      <td>0.11890</td>\n",
              "      <td>0</td>\n",
              "    </tr>\n",
              "    <tr>\n",
              "      <th>1</th>\n",
              "      <td>20.57</td>\n",
              "      <td>17.77</td>\n",
              "      <td>132.90</td>\n",
              "      <td>1326.0</td>\n",
              "      <td>0.08474</td>\n",
              "      <td>0.07864</td>\n",
              "      <td>0.0869</td>\n",
              "      <td>0.07017</td>\n",
              "      <td>0.1812</td>\n",
              "      <td>0.05667</td>\n",
              "      <td>0.5435</td>\n",
              "      <td>0.7339</td>\n",
              "      <td>3.398</td>\n",
              "      <td>74.08</td>\n",
              "      <td>0.005225</td>\n",
              "      <td>0.01308</td>\n",
              "      <td>0.01860</td>\n",
              "      <td>0.01340</td>\n",
              "      <td>0.01389</td>\n",
              "      <td>0.003532</td>\n",
              "      <td>24.99</td>\n",
              "      <td>23.41</td>\n",
              "      <td>158.80</td>\n",
              "      <td>1956.0</td>\n",
              "      <td>0.1238</td>\n",
              "      <td>0.1866</td>\n",
              "      <td>0.2416</td>\n",
              "      <td>0.1860</td>\n",
              "      <td>0.2750</td>\n",
              "      <td>0.08902</td>\n",
              "      <td>0</td>\n",
              "    </tr>\n",
              "    <tr>\n",
              "      <th>2</th>\n",
              "      <td>19.69</td>\n",
              "      <td>21.25</td>\n",
              "      <td>130.00</td>\n",
              "      <td>1203.0</td>\n",
              "      <td>0.10960</td>\n",
              "      <td>0.15990</td>\n",
              "      <td>0.1974</td>\n",
              "      <td>0.12790</td>\n",
              "      <td>0.2069</td>\n",
              "      <td>0.05999</td>\n",
              "      <td>0.7456</td>\n",
              "      <td>0.7869</td>\n",
              "      <td>4.585</td>\n",
              "      <td>94.03</td>\n",
              "      <td>0.006150</td>\n",
              "      <td>0.04006</td>\n",
              "      <td>0.03832</td>\n",
              "      <td>0.02058</td>\n",
              "      <td>0.02250</td>\n",
              "      <td>0.004571</td>\n",
              "      <td>23.57</td>\n",
              "      <td>25.53</td>\n",
              "      <td>152.50</td>\n",
              "      <td>1709.0</td>\n",
              "      <td>0.1444</td>\n",
              "      <td>0.4245</td>\n",
              "      <td>0.4504</td>\n",
              "      <td>0.2430</td>\n",
              "      <td>0.3613</td>\n",
              "      <td>0.08758</td>\n",
              "      <td>0</td>\n",
              "    </tr>\n",
              "    <tr>\n",
              "      <th>3</th>\n",
              "      <td>11.42</td>\n",
              "      <td>20.38</td>\n",
              "      <td>77.58</td>\n",
              "      <td>386.1</td>\n",
              "      <td>0.14250</td>\n",
              "      <td>0.28390</td>\n",
              "      <td>0.2414</td>\n",
              "      <td>0.10520</td>\n",
              "      <td>0.2597</td>\n",
              "      <td>0.09744</td>\n",
              "      <td>0.4956</td>\n",
              "      <td>1.1560</td>\n",
              "      <td>3.445</td>\n",
              "      <td>27.23</td>\n",
              "      <td>0.009110</td>\n",
              "      <td>0.07458</td>\n",
              "      <td>0.05661</td>\n",
              "      <td>0.01867</td>\n",
              "      <td>0.05963</td>\n",
              "      <td>0.009208</td>\n",
              "      <td>14.91</td>\n",
              "      <td>26.50</td>\n",
              "      <td>98.87</td>\n",
              "      <td>567.7</td>\n",
              "      <td>0.2098</td>\n",
              "      <td>0.8663</td>\n",
              "      <td>0.6869</td>\n",
              "      <td>0.2575</td>\n",
              "      <td>0.6638</td>\n",
              "      <td>0.17300</td>\n",
              "      <td>0</td>\n",
              "    </tr>\n",
              "    <tr>\n",
              "      <th>4</th>\n",
              "      <td>20.29</td>\n",
              "      <td>14.34</td>\n",
              "      <td>135.10</td>\n",
              "      <td>1297.0</td>\n",
              "      <td>0.10030</td>\n",
              "      <td>0.13280</td>\n",
              "      <td>0.1980</td>\n",
              "      <td>0.10430</td>\n",
              "      <td>0.1809</td>\n",
              "      <td>0.05883</td>\n",
              "      <td>0.7572</td>\n",
              "      <td>0.7813</td>\n",
              "      <td>5.438</td>\n",
              "      <td>94.44</td>\n",
              "      <td>0.011490</td>\n",
              "      <td>0.02461</td>\n",
              "      <td>0.05688</td>\n",
              "      <td>0.01885</td>\n",
              "      <td>0.01756</td>\n",
              "      <td>0.005115</td>\n",
              "      <td>22.54</td>\n",
              "      <td>16.67</td>\n",
              "      <td>152.20</td>\n",
              "      <td>1575.0</td>\n",
              "      <td>0.1374</td>\n",
              "      <td>0.2050</td>\n",
              "      <td>0.4000</td>\n",
              "      <td>0.1625</td>\n",
              "      <td>0.2364</td>\n",
              "      <td>0.07678</td>\n",
              "      <td>0</td>\n",
              "    </tr>\n",
              "  </tbody>\n",
              "</table>\n",
              "</div>"
            ],
            "text/plain": [
              "   mean radius  mean texture  ...  worst fractal dimension  benign_0__mal_1\n",
              "0        17.99         10.38  ...                  0.11890                0\n",
              "1        20.57         17.77  ...                  0.08902                0\n",
              "2        19.69         21.25  ...                  0.08758                0\n",
              "3        11.42         20.38  ...                  0.17300                0\n",
              "4        20.29         14.34  ...                  0.07678                0\n",
              "\n",
              "[5 rows x 31 columns]"
            ]
          },
          "metadata": {
            "tags": []
          },
          "execution_count": 30
        }
      ]
    },
    {
      "cell_type": "markdown",
      "metadata": {
        "id": "WT_ZH0dB9t2y"
      },
      "source": [
        "# **Visualizations will help us understand our data!**"
      ]
    },
    {
      "cell_type": "code",
      "metadata": {
        "id": "Hq57bGvOw-KF"
      },
      "source": [
        "import seaborn as sns\r\n",
        "import matplotlib.pyplot as plt"
      ],
      "execution_count": 31,
      "outputs": []
    },
    {
      "cell_type": "code",
      "metadata": {
        "colab": {
          "base_uri": "https://localhost:8080/",
          "height": 299
        },
        "id": "OEP1I5JXxNVv",
        "outputId": "f7225a47-ffac-4e42-a894-b688dc8961a8"
      },
      "source": [
        "sns.countplot(x=\"benign_0__mal_1\", data=df)"
      ],
      "execution_count": 32,
      "outputs": [
        {
          "output_type": "execute_result",
          "data": {
            "text/plain": [
              "<matplotlib.axes._subplots.AxesSubplot at 0x7f961ade3ac8>"
            ]
          },
          "metadata": {
            "tags": []
          },
          "execution_count": 32
        },
        {
          "output_type": "display_data",
          "data": {
            "image/png": "[encoded data removed]",
            "text/plain": [
              "<Figure size 432x288 with 1 Axes>"
            ]
          },
          "metadata": {
            "tags": [],
            "needs_background": "light"
          }
        }
      ]
    },
    {
      "cell_type": "code",
      "metadata": {
        "colab": {
          "base_uri": "https://localhost:8080/",
          "height": 299
        },
        "id": "uiXMDPOIylnI",
        "outputId": "a38819bb-e0ba-4115-88e5-90ee27c3ecb2"
      },
      "source": [
        "sns.boxplot(x=\"benign_0__mal_1\", y=\"worst radius\", data=df)"
      ],
      "execution_count": 33,
      "outputs": [
        {
          "output_type": "execute_result",
          "data": {
            "text/plain": [
              "<matplotlib.axes._subplots.AxesSubplot at 0x7f95c0094128>"
            ]
          },
          "metadata": {
            "tags": []
          },
          "execution_count": 33
        },
        {
          "output_type": "display_data",
          "data": {
            "image/png": "[encoded data removed]",
            "text/plain": [
              "<Figure size 432x288 with 1 Axes>"
            ]
          },
          "metadata": {
            "tags": [],
            "needs_background": "light"
          }
        }
      ]
    },
    {
      "cell_type": "code",
      "metadata": {
        "colab": {
          "base_uri": "https://localhost:8080/",
          "height": 298
        },
        "id": "TQ5FDXwu1C1V",
        "outputId": "ae714f46-0fd2-4c64-e641-53ea04c6961e"
      },
      "source": [
        "sns.scatterplot(x=\"mean symmetry\", y=\"mean texture\", data=df)"
      ],
      "execution_count": 34,
      "outputs": [
        {
          "output_type": "execute_result",
          "data": {
            "text/plain": [
              "<matplotlib.axes._subplots.AxesSubplot at 0x7f95a8fe1588>"
            ]
          },
          "metadata": {
            "tags": []
          },
          "execution_count": 34
        },
        {
          "output_type": "display_data",
          "data": {
            "image/png": "[encoded data removed]",
            "text/plain": [
              "<Figure size 432x288 with 1 Axes>"
            ]
          },
          "metadata": {
            "tags": [],
            "needs_background": "light"
          }
        }
      ]
    },
    {
      "cell_type": "markdown",
      "metadata": {
        "id": "epkQwNbj93PJ"
      },
      "source": [
        "#**Data Split**"
      ]
    },
    {
      "cell_type": "code",
      "metadata": {
        "id": "9dZZILsh3HHG"
      },
      "source": [
        "#Separate network input and labels into 2 arrays\r\n",
        "X = df.drop('benign_0__mal_1',axis=1).values \r\n",
        "y = df[\"benign_0__mal_1\"].values"
      ],
      "execution_count": 35,
      "outputs": []
    },
    {
      "cell_type": "code",
      "metadata": {
        "colab": {
          "base_uri": "https://localhost:8080/"
        },
        "id": "6GrOrreO4d-L",
        "outputId": "b554fed9-85ce-46e6-8f54-b17e08623f97"
      },
      "source": [
        "X"
      ],
      "execution_count": 36,
      "outputs": [
        {
          "output_type": "execute_result",
          "data": {
            "text/plain": [
              "array([[1.799e+01, 1.038e+01, 1.228e+02, ..., 2.654e-01, 4.601e-01,\n",
              "        1.189e-01],\n",
              "       [2.057e+01, 1.777e+01, 1.329e+02, ..., 1.860e-01, 2.750e-01,\n",
              "        8.902e-02],\n",
              "       [1.969e+01, 2.125e+01, 1.300e+02, ..., 2.430e-01, 3.613e-01,\n",
              "        8.758e-02],\n",
              "       ...,\n",
              "       [1.660e+01, 2.808e+01, 1.083e+02, ..., 1.418e-01, 2.218e-01,\n",
              "        7.820e-02],\n",
              "       [2.060e+01, 2.933e+01, 1.401e+02, ..., 2.650e-01, 4.087e-01,\n",
              "        1.240e-01],\n",
              "       [7.760e+00, 2.454e+01, 4.792e+01, ..., 0.000e+00, 2.871e-01,\n",
              "        7.039e-02]])"
            ]
          },
          "metadata": {
            "tags": []
          },
          "execution_count": 36
        }
      ]
    },
    {
      "cell_type": "code",
      "metadata": {
        "colab": {
          "base_uri": "https://localhost:8080/"
        },
        "id": "yT9jjYzt5j_l",
        "outputId": "74ede99c-56fc-4e1c-8f58-db4f977dbf7e"
      },
      "source": [
        "X.shape"
      ],
      "execution_count": 37,
      "outputs": [
        {
          "output_type": "execute_result",
          "data": {
            "text/plain": [
              "(569, 30)"
            ]
          },
          "metadata": {
            "tags": []
          },
          "execution_count": 37
        }
      ]
    },
    {
      "cell_type": "code",
      "metadata": {
        "colab": {
          "base_uri": "https://localhost:8080/"
        },
        "id": "bPbbrcJc5n3G",
        "outputId": "7fe31b18-58aa-4804-a0a5-443ca4d8a8c8"
      },
      "source": [
        "y"
      ],
      "execution_count": 38,
      "outputs": [
        {
          "output_type": "execute_result",
          "data": {
            "text/plain": [
              "array([0, 0, 0, 0, 0, 0, 0, 0, 0, 0, 0, 0, 0, 0, 0, 0, 0, 0, 0, 1, 1, 1,\n",
              "       0, 0, 0, 0, 0, 0, 0, 0, 0, 0, 0, 0, 0, 0, 0, 1, 0, 0, 0, 0, 0, 0,\n",
              "       0, 0, 1, 0, 1, 1, 1, 1, 1, 0, 0, 1, 0, 0, 1, 1, 1, 1, 0, 1, 0, 0,\n",
              "       1, 1, 1, 1, 0, 1, 0, 0, 1, 0, 1, 0, 0, 1, 1, 1, 0, 0, 1, 0, 0, 0,\n",
              "       1, 1, 1, 0, 1, 1, 0, 0, 1, 1, 1, 0, 0, 1, 1, 1, 1, 0, 1, 1, 0, 1,\n",
              "       1, 1, 1, 1, 1, 1, 1, 0, 0, 0, 1, 0, 0, 1, 1, 1, 0, 0, 1, 0, 1, 0,\n",
              "       0, 1, 0, 0, 1, 1, 0, 1, 1, 0, 1, 1, 1, 1, 0, 1, 1, 1, 1, 1, 1, 1,\n",
              "       1, 1, 0, 1, 1, 1, 1, 0, 0, 1, 0, 1, 1, 0, 0, 1, 1, 0, 0, 1, 1, 1,\n",
              "       1, 0, 1, 1, 0, 0, 0, 1, 0, 1, 0, 1, 1, 1, 0, 1, 1, 0, 0, 1, 0, 0,\n",
              "       0, 0, 1, 0, 0, 0, 1, 0, 1, 0, 1, 1, 0, 1, 0, 0, 0, 0, 1, 1, 0, 0,\n",
              "       1, 1, 1, 0, 1, 1, 1, 1, 1, 0, 0, 1, 1, 0, 1, 1, 0, 0, 1, 0, 1, 1,\n",
              "       1, 1, 0, 1, 1, 1, 1, 1, 0, 1, 0, 0, 0, 0, 0, 0, 0, 0, 0, 0, 0, 0,\n",
              "       0, 0, 1, 1, 1, 1, 1, 1, 0, 1, 0, 1, 1, 0, 1, 1, 0, 1, 0, 0, 1, 1,\n",
              "       1, 1, 1, 1, 1, 1, 1, 1, 1, 1, 1, 0, 1, 1, 0, 1, 0, 1, 1, 1, 1, 1,\n",
              "       1, 1, 1, 1, 1, 1, 1, 1, 1, 0, 1, 1, 1, 0, 1, 0, 1, 1, 1, 1, 0, 0,\n",
              "       0, 1, 1, 1, 1, 0, 1, 0, 1, 0, 1, 1, 1, 0, 1, 1, 1, 1, 1, 1, 1, 0,\n",
              "       0, 0, 1, 1, 1, 1, 1, 1, 1, 1, 1, 1, 1, 0, 0, 1, 0, 0, 0, 1, 0, 0,\n",
              "       1, 1, 1, 1, 1, 0, 1, 1, 1, 1, 1, 0, 1, 1, 1, 0, 1, 1, 0, 0, 1, 1,\n",
              "       1, 1, 1, 1, 0, 1, 1, 1, 1, 1, 1, 1, 0, 1, 1, 1, 1, 1, 0, 1, 1, 0,\n",
              "       1, 1, 1, 1, 1, 1, 1, 1, 1, 1, 1, 1, 0, 1, 0, 0, 1, 0, 1, 1, 1, 1,\n",
              "       1, 0, 1, 1, 0, 1, 0, 1, 1, 0, 1, 0, 1, 1, 1, 1, 1, 1, 1, 1, 0, 0,\n",
              "       1, 1, 1, 1, 1, 1, 0, 1, 1, 1, 1, 1, 1, 1, 1, 1, 1, 0, 1, 1, 1, 1,\n",
              "       1, 1, 1, 0, 1, 0, 1, 1, 0, 1, 1, 1, 1, 1, 0, 0, 1, 0, 1, 0, 1, 1,\n",
              "       1, 1, 1, 0, 1, 1, 0, 1, 0, 1, 0, 0, 1, 1, 1, 0, 1, 1, 1, 1, 1, 1,\n",
              "       1, 1, 1, 1, 1, 0, 1, 0, 0, 1, 1, 1, 1, 1, 1, 1, 1, 1, 1, 1, 1, 1,\n",
              "       1, 1, 1, 1, 1, 1, 1, 1, 1, 1, 1, 1, 0, 0, 0, 0, 0, 0, 1])"
            ]
          },
          "metadata": {
            "tags": []
          },
          "execution_count": 38
        }
      ]
    },
    {
      "cell_type": "code",
      "metadata": {
        "colab": {
          "base_uri": "https://localhost:8080/"
        },
        "id": "jm5ubI4r4ilV",
        "outputId": "ffc0be6d-0515-4ce6-ce78-ff693fc41d24"
      },
      "source": [
        "y.shape"
      ],
      "execution_count": 39,
      "outputs": [
        {
          "output_type": "execute_result",
          "data": {
            "text/plain": [
              "(569,)"
            ]
          },
          "metadata": {
            "tags": []
          },
          "execution_count": 39
        }
      ]
    },
    {
      "cell_type": "code",
      "metadata": {
        "id": "3q_zcpJw3Nbh"
      },
      "source": [
        "from sklearn.model_selection import train_test_split"
      ],
      "execution_count": 40,
      "outputs": []
    },
    {
      "cell_type": "code",
      "metadata": {
        "id": "wGmKXy8I3OL3"
      },
      "source": [
        "#train_test_split has 4 outputs by default\r\n",
        "X_train, X_test, y_train, y_test = train_test_split(X,y,test_size=0.25,random_state=101)\r\n",
        "#converts 25% of our dataset into test data"
      ],
      "execution_count": 41,
      "outputs": []
    },
    {
      "cell_type": "code",
      "metadata": {
        "colab": {
          "base_uri": "https://localhost:8080/"
        },
        "id": "0c09WE9Y6PgZ",
        "outputId": "3149d4c5-0e0f-41bd-9a30-6ef6d755b4c6"
      },
      "source": [
        "X_train.shape"
      ],
      "execution_count": 42,
      "outputs": [
        {
          "output_type": "execute_result",
          "data": {
            "text/plain": [
              "(426, 30)"
            ]
          },
          "metadata": {
            "tags": []
          },
          "execution_count": 42
        }
      ]
    },
    {
      "cell_type": "code",
      "metadata": {
        "colab": {
          "base_uri": "https://localhost:8080/"
        },
        "id": "_-UsN1_z6Thx",
        "outputId": "f65f1109-f97f-4d09-c7fd-dc7f0dfb868d"
      },
      "source": [
        "X_test.shape"
      ],
      "execution_count": 43,
      "outputs": [
        {
          "output_type": "execute_result",
          "data": {
            "text/plain": [
              "(143, 30)"
            ]
          },
          "metadata": {
            "tags": []
          },
          "execution_count": 43
        }
      ]
    },
    {
      "cell_type": "markdown",
      "metadata": {
        "id": "-RJ882KG97z4"
      },
      "source": [
        "#**Data Normalization**"
      ]
    },
    {
      "cell_type": "code",
      "metadata": {
        "id": "09PFOgQv6x_a"
      },
      "source": [
        "from sklearn.preprocessing import MinMaxScaler"
      ],
      "execution_count": 44,
      "outputs": []
    },
    {
      "cell_type": "code",
      "metadata": {
        "id": "-6B8Daad7AU2"
      },
      "source": [
        "scaler = MinMaxScaler()"
      ],
      "execution_count": 45,
      "outputs": []
    },
    {
      "cell_type": "code",
      "metadata": {
        "colab": {
          "base_uri": "https://localhost:8080/"
        },
        "id": "Cjo0UqH18EWp",
        "outputId": "f72274a4-8a76-4cc7-8028-f63a4a567ba0"
      },
      "source": [
        "#.fit finds the min and max values for each column\r\n",
        "#.fit is ONLY called for training data (X_train) \r\n",
        "scaler.fit(X_train)"
      ],
      "execution_count": 46,
      "outputs": [
        {
          "output_type": "execute_result",
          "data": {
            "text/plain": [
              "MinMaxScaler(copy=True, feature_range=(0, 1))"
            ]
          },
          "metadata": {
            "tags": []
          },
          "execution_count": 46
        }
      ]
    },
    {
      "cell_type": "code",
      "metadata": {
        "id": "23oYgGfE8QqR"
      },
      "source": [
        "#apply scalling to both training and test data\r\n",
        "X_train = scaler.transform(X_train)\r\n",
        "X_test = scaler.transform(X_test)"
      ],
      "execution_count": 47,
      "outputs": []
    },
    {
      "cell_type": "markdown",
      "metadata": {
        "id": "kUmAeWKQBxmu"
      },
      "source": [
        "#**Neural Network Architecture**"
      ]
    },
    {
      "cell_type": "code",
      "metadata": {
        "id": "7zKrlfum8tIv"
      },
      "source": [
        "import tensorflow as tf\r\n",
        "from tensorflow.keras.models import Sequential\r\n",
        "from tensorflow.keras.layers import Dense, Activation,Dropout"
      ],
      "execution_count": 63,
      "outputs": []
    },
    {
      "cell_type": "code",
      "metadata": {
        "id": "Fs66I8qO8wuh"
      },
      "source": [
        "#Initialize empty model\r\n",
        "model = Sequential()"
      ],
      "execution_count": 64,
      "outputs": []
    },
    {
      "cell_type": "code",
      "metadata": {
        "id": "WYi3fqVVDlLd"
      },
      "source": [
        "#Add layers to model\r\n",
        "model.add(Dense(units=30,activation='relu')) #30 units(neurons) because X_train has 30 parameters\r\n",
        "model.add(Dense(units=15,activation='relu')) #15 units(neurons) because we can pick a number of our discretion\r\n",
        "model.add(Dense(units=1,activation='sigmoid')) "
      ],
      "execution_count": 65,
      "outputs": []
    },
    {
      "cell_type": "code",
      "metadata": {
        "id": "mwxbE1rfDuFh"
      },
      "source": [
        "#specify loss function and optimizer\r\n",
        "model.compile(loss='binary_crossentropy', optimizer='adam')\r\n",
        "#binary crossentropy because we are dealing with a binary classification problem\r\n",
        "#the cell is benign or malignant, thus binary classification"
      ],
      "execution_count": 66,
      "outputs": []
    },
    {
      "cell_type": "markdown",
      "metadata": {
        "id": "9J_5nZm3H3Zf"
      },
      "source": [
        "# **Train AI**"
      ]
    },
    {
      "cell_type": "code",
      "metadata": {
        "colab": {
          "base_uri": "https://localhost:8080/"
        },
        "id": "CQuiyFRnD7Fm",
        "outputId": "8a003f19-ae3e-4657-cb79-61fa5bfeeef8"
      },
      "source": [
        "model.fit(x=X_train, \r\n",
        "          y=y_train, \r\n",
        "          epochs=600,\r\n",
        "          validation_data=(X_test, y_test), verbose=1\r\n",
        "          )"
      ],
      "execution_count": 67,
      "outputs": [
        {
          "output_type": "stream",
          "text": [
            "Epoch 1/600\n",
            "14/14 [==============================] - 0s 11ms/step - loss: 0.6992 - val_loss: 0.6676\n",
            "Epoch 2/600\n",
            "14/14 [==============================] - 0s 4ms/step - loss: 0.6646 - val_loss: 0.6392\n",
            "Epoch 3/600\n",
            "14/14 [==============================] - 0s 5ms/step - loss: 0.6293 - val_loss: 0.6060\n",
            "Epoch 4/600\n",
            "14/14 [==============================] - 0s 4ms/step - loss: 0.5888 - val_loss: 0.5670\n",
            "Epoch 5/600\n",
            "14/14 [==============================] - 0s 4ms/step - loss: 0.5530 - val_loss: 0.5209\n",
            "Epoch 6/600\n",
            "14/14 [==============================] - 0s 4ms/step - loss: 0.5092 - val_loss: 0.4687\n",
            "Epoch 7/600\n",
            "14/14 [==============================] - 0s 4ms/step - loss: 0.4603 - val_loss: 0.4142\n",
            "Epoch 8/600\n",
            "14/14 [==============================] - 0s 4ms/step - loss: 0.4070 - val_loss: 0.3534\n",
            "Epoch 9/600\n",
            "14/14 [==============================] - 0s 4ms/step - loss: 0.3425 - val_loss: 0.3056\n",
            "Epoch 10/600\n",
            "14/14 [==============================] - 0s 4ms/step - loss: 0.2987 - val_loss: 0.2677\n",
            "Epoch 11/600\n",
            "14/14 [==============================] - 0s 4ms/step - loss: 0.2631 - val_loss: 0.2414\n",
            "Epoch 12/600\n",
            "14/14 [==============================] - 0s 4ms/step - loss: 0.2414 - val_loss: 0.2162\n",
            "Epoch 13/600\n",
            "14/14 [==============================] - 0s 4ms/step - loss: 0.2241 - val_loss: 0.2025\n",
            "Epoch 14/600\n",
            "14/14 [==============================] - 0s 4ms/step - loss: 0.2015 - val_loss: 0.1856\n",
            "Epoch 15/600\n",
            "14/14 [==============================] - 0s 4ms/step - loss: 0.1910 - val_loss: 0.1743\n",
            "Epoch 16/600\n",
            "14/14 [==============================] - 0s 4ms/step - loss: 0.1727 - val_loss: 0.1661\n",
            "Epoch 17/600\n",
            "14/14 [==============================] - 0s 4ms/step - loss: 0.1646 - val_loss: 0.1574\n",
            "Epoch 18/600\n",
            "14/14 [==============================] - 0s 4ms/step - loss: 0.1548 - val_loss: 0.1475\n",
            "Epoch 19/600\n",
            "14/14 [==============================] - 0s 4ms/step - loss: 0.1312 - val_loss: 0.1480\n",
            "Epoch 20/600\n",
            "14/14 [==============================] - 0s 4ms/step - loss: 0.1671 - val_loss: 0.1378\n",
            "Epoch 21/600\n",
            "14/14 [==============================] - 0s 4ms/step - loss: 0.1567 - val_loss: 0.1337\n",
            "Epoch 22/600\n",
            "14/14 [==============================] - 0s 4ms/step - loss: 0.1492 - val_loss: 0.1303\n",
            "Epoch 23/600\n",
            "14/14 [==============================] - 0s 4ms/step - loss: 0.1111 - val_loss: 0.1282\n",
            "Epoch 24/600\n",
            "14/14 [==============================] - 0s 12ms/step - loss: 0.1060 - val_loss: 0.1252\n",
            "Epoch 25/600\n",
            "14/14 [==============================] - 0s 4ms/step - loss: 0.1023 - val_loss: 0.1228\n",
            "Epoch 26/600\n",
            "14/14 [==============================] - 0s 4ms/step - loss: 0.1191 - val_loss: 0.1198\n",
            "Epoch 27/600\n",
            "14/14 [==============================] - 0s 4ms/step - loss: 0.1126 - val_loss: 0.1199\n",
            "Epoch 28/600\n",
            "14/14 [==============================] - 0s 4ms/step - loss: 0.1219 - val_loss: 0.1135\n",
            "Epoch 29/600\n",
            "14/14 [==============================] - 0s 4ms/step - loss: 0.0868 - val_loss: 0.1148\n",
            "Epoch 30/600\n",
            "14/14 [==============================] - 0s 4ms/step - loss: 0.0989 - val_loss: 0.1122\n",
            "Epoch 31/600\n",
            "14/14 [==============================] - 0s 4ms/step - loss: 0.0949 - val_loss: 0.1098\n",
            "Epoch 32/600\n",
            "14/14 [==============================] - 0s 4ms/step - loss: 0.0927 - val_loss: 0.1105\n",
            "Epoch 33/600\n",
            "14/14 [==============================] - 0s 4ms/step - loss: 0.0754 - val_loss: 0.1081\n",
            "Epoch 34/600\n",
            "14/14 [==============================] - 0s 4ms/step - loss: 0.0800 - val_loss: 0.1112\n",
            "Epoch 35/600\n",
            "14/14 [==============================] - 0s 4ms/step - loss: 0.0865 - val_loss: 0.1049\n",
            "Epoch 36/600\n",
            "14/14 [==============================] - 0s 5ms/step - loss: 0.0832 - val_loss: 0.1065\n",
            "Epoch 37/600\n",
            "14/14 [==============================] - 0s 4ms/step - loss: 0.0914 - val_loss: 0.1074\n",
            "Epoch 38/600\n",
            "14/14 [==============================] - 0s 5ms/step - loss: 0.0951 - val_loss: 0.1071\n",
            "Epoch 39/600\n",
            "14/14 [==============================] - 0s 4ms/step - loss: 0.0853 - val_loss: 0.1057\n",
            "Epoch 40/600\n",
            "14/14 [==============================] - 0s 4ms/step - loss: 0.0572 - val_loss: 0.1068\n",
            "Epoch 41/600\n",
            "14/14 [==============================] - 0s 4ms/step - loss: 0.0727 - val_loss: 0.1000\n",
            "Epoch 42/600\n",
            "14/14 [==============================] - 0s 4ms/step - loss: 0.0625 - val_loss: 0.1088\n",
            "Epoch 43/600\n",
            "14/14 [==============================] - 0s 4ms/step - loss: 0.0765 - val_loss: 0.1001\n",
            "Epoch 44/600\n",
            "14/14 [==============================] - 0s 4ms/step - loss: 0.0817 - val_loss: 0.1055\n",
            "Epoch 45/600\n",
            "14/14 [==============================] - 0s 4ms/step - loss: 0.0716 - val_loss: 0.1019\n",
            "Epoch 46/600\n",
            "14/14 [==============================] - 0s 4ms/step - loss: 0.0715 - val_loss: 0.0992\n",
            "Epoch 47/600\n",
            "14/14 [==============================] - 0s 4ms/step - loss: 0.0709 - val_loss: 0.1028\n",
            "Epoch 48/600\n",
            "14/14 [==============================] - 0s 4ms/step - loss: 0.0694 - val_loss: 0.0997\n",
            "Epoch 49/600\n",
            "14/14 [==============================] - 0s 4ms/step - loss: 0.0616 - val_loss: 0.1026\n",
            "Epoch 50/600\n",
            "14/14 [==============================] - 0s 4ms/step - loss: 0.0664 - val_loss: 0.1001\n",
            "Epoch 51/600\n",
            "14/14 [==============================] - 0s 4ms/step - loss: 0.0598 - val_loss: 0.1030\n",
            "Epoch 52/600\n",
            "14/14 [==============================] - 0s 5ms/step - loss: 0.0627 - val_loss: 0.0980\n",
            "Epoch 53/600\n",
            "14/14 [==============================] - 0s 4ms/step - loss: 0.0636 - val_loss: 0.1060\n",
            "Epoch 54/600\n",
            "14/14 [==============================] - 0s 5ms/step - loss: 0.0517 - val_loss: 0.0983\n",
            "Epoch 55/600\n",
            "14/14 [==============================] - 0s 4ms/step - loss: 0.0464 - val_loss: 0.1057\n",
            "Epoch 56/600\n",
            "14/14 [==============================] - 0s 4ms/step - loss: 0.0590 - val_loss: 0.0987\n",
            "Epoch 57/600\n",
            "14/14 [==============================] - 0s 4ms/step - loss: 0.0557 - val_loss: 0.1044\n",
            "Epoch 58/600\n",
            "14/14 [==============================] - 0s 4ms/step - loss: 0.0545 - val_loss: 0.1023\n",
            "Epoch 59/600\n",
            "14/14 [==============================] - 0s 4ms/step - loss: 0.0636 - val_loss: 0.0991\n",
            "Epoch 60/600\n",
            "14/14 [==============================] - 0s 4ms/step - loss: 0.0493 - val_loss: 0.1033\n",
            "Epoch 61/600\n",
            "14/14 [==============================] - 0s 4ms/step - loss: 0.0516 - val_loss: 0.1012\n",
            "Epoch 62/600\n",
            "14/14 [==============================] - 0s 4ms/step - loss: 0.0486 - val_loss: 0.1011\n",
            "Epoch 63/600\n",
            "14/14 [==============================] - 0s 4ms/step - loss: 0.0460 - val_loss: 0.1053\n",
            "Epoch 64/600\n",
            "14/14 [==============================] - 0s 4ms/step - loss: 0.0576 - val_loss: 0.1032\n",
            "Epoch 65/600\n",
            "14/14 [==============================] - 0s 4ms/step - loss: 0.0426 - val_loss: 0.1034\n",
            "Epoch 66/600\n",
            "14/14 [==============================] - 0s 4ms/step - loss: 0.0650 - val_loss: 0.0995\n",
            "Epoch 67/600\n",
            "14/14 [==============================] - 0s 4ms/step - loss: 0.0629 - val_loss: 0.1013\n",
            "Epoch 68/600\n",
            "14/14 [==============================] - 0s 4ms/step - loss: 0.0522 - val_loss: 0.1066\n",
            "Epoch 69/600\n",
            "14/14 [==============================] - 0s 5ms/step - loss: 0.0569 - val_loss: 0.1076\n",
            "Epoch 70/600\n",
            "14/14 [==============================] - 0s 4ms/step - loss: 0.0563 - val_loss: 0.1009\n",
            "Epoch 71/600\n",
            "14/14 [==============================] - 0s 4ms/step - loss: 0.0661 - val_loss: 0.1002\n",
            "Epoch 72/600\n",
            "14/14 [==============================] - 0s 12ms/step - loss: 0.0530 - val_loss: 0.1020\n",
            "Epoch 73/600\n",
            "14/14 [==============================] - 0s 4ms/step - loss: 0.0435 - val_loss: 0.1075\n",
            "Epoch 74/600\n",
            "14/14 [==============================] - 0s 4ms/step - loss: 0.0519 - val_loss: 0.1038\n",
            "Epoch 75/600\n",
            "14/14 [==============================] - 0s 4ms/step - loss: 0.0442 - val_loss: 0.1018\n",
            "Epoch 76/600\n",
            "14/14 [==============================] - 0s 4ms/step - loss: 0.0508 - val_loss: 0.1049\n",
            "Epoch 77/600\n",
            "14/14 [==============================] - 0s 4ms/step - loss: 0.0559 - val_loss: 0.1018\n",
            "Epoch 78/600\n",
            "14/14 [==============================] - 0s 4ms/step - loss: 0.0638 - val_loss: 0.1014\n",
            "Epoch 79/600\n",
            "14/14 [==============================] - 0s 4ms/step - loss: 0.0593 - val_loss: 0.1044\n",
            "Epoch 80/600\n",
            "14/14 [==============================] - 0s 4ms/step - loss: 0.0513 - val_loss: 0.1036\n",
            "Epoch 81/600\n",
            "14/14 [==============================] - 0s 4ms/step - loss: 0.0480 - val_loss: 0.1072\n",
            "Epoch 82/600\n",
            "14/14 [==============================] - 0s 4ms/step - loss: 0.0470 - val_loss: 0.1072\n",
            "Epoch 83/600\n",
            "14/14 [==============================] - 0s 4ms/step - loss: 0.0587 - val_loss: 0.1065\n",
            "Epoch 84/600\n",
            "14/14 [==============================] - 0s 4ms/step - loss: 0.0385 - val_loss: 0.1061\n",
            "Epoch 85/600\n",
            "14/14 [==============================] - 0s 4ms/step - loss: 0.0404 - val_loss: 0.1073\n",
            "Epoch 86/600\n",
            "14/14 [==============================] - 0s 4ms/step - loss: 0.0424 - val_loss: 0.1057\n",
            "Epoch 87/600\n",
            "14/14 [==============================] - 0s 4ms/step - loss: 0.0427 - val_loss: 0.1048\n",
            "Epoch 88/600\n",
            "14/14 [==============================] - 0s 4ms/step - loss: 0.0521 - val_loss: 0.1083\n",
            "Epoch 89/600\n",
            "14/14 [==============================] - 0s 4ms/step - loss: 0.0432 - val_loss: 0.1027\n",
            "Epoch 90/600\n",
            "14/14 [==============================] - 0s 4ms/step - loss: 0.0527 - val_loss: 0.1135\n",
            "Epoch 91/600\n",
            "14/14 [==============================] - 0s 4ms/step - loss: 0.0567 - val_loss: 0.1017\n",
            "Epoch 92/600\n",
            "14/14 [==============================] - 0s 4ms/step - loss: 0.0588 - val_loss: 0.1115\n",
            "Epoch 93/600\n",
            "14/14 [==============================] - 0s 4ms/step - loss: 0.0453 - val_loss: 0.1020\n",
            "Epoch 94/600\n",
            "14/14 [==============================] - 0s 4ms/step - loss: 0.0599 - val_loss: 0.1089\n",
            "Epoch 95/600\n",
            "14/14 [==============================] - 0s 4ms/step - loss: 0.0548 - val_loss: 0.1061\n",
            "Epoch 96/600\n",
            "14/14 [==============================] - 0s 4ms/step - loss: 0.0549 - val_loss: 0.1194\n",
            "Epoch 97/600\n",
            "14/14 [==============================] - 0s 4ms/step - loss: 0.0493 - val_loss: 0.1023\n",
            "Epoch 98/600\n",
            "14/14 [==============================] - 0s 4ms/step - loss: 0.0539 - val_loss: 0.1139\n",
            "Epoch 99/600\n",
            "14/14 [==============================] - 0s 4ms/step - loss: 0.0485 - val_loss: 0.1051\n",
            "Epoch 100/600\n",
            "14/14 [==============================] - 0s 4ms/step - loss: 0.0378 - val_loss: 0.1071\n",
            "Epoch 101/600\n",
            "14/14 [==============================] - 0s 4ms/step - loss: 0.0344 - val_loss: 0.1123\n",
            "Epoch 102/600\n",
            "14/14 [==============================] - 0s 4ms/step - loss: 0.0459 - val_loss: 0.1071\n",
            "Epoch 103/600\n",
            "14/14 [==============================] - 0s 4ms/step - loss: 0.0510 - val_loss: 0.1140\n",
            "Epoch 104/600\n",
            "14/14 [==============================] - 0s 5ms/step - loss: 0.0436 - val_loss: 0.1158\n",
            "Epoch 105/600\n",
            "14/14 [==============================] - 0s 4ms/step - loss: 0.0361 - val_loss: 0.1045\n",
            "Epoch 106/600\n",
            "14/14 [==============================] - 0s 4ms/step - loss: 0.0573 - val_loss: 0.1114\n",
            "Epoch 107/600\n",
            "14/14 [==============================] - 0s 4ms/step - loss: 0.0600 - val_loss: 0.1145\n",
            "Epoch 108/600\n",
            "14/14 [==============================] - 0s 4ms/step - loss: 0.0514 - val_loss: 0.1055\n",
            "Epoch 109/600\n",
            "14/14 [==============================] - 0s 4ms/step - loss: 0.0432 - val_loss: 0.1112\n",
            "Epoch 110/600\n",
            "14/14 [==============================] - 0s 4ms/step - loss: 0.0512 - val_loss: 0.1076\n",
            "Epoch 111/600\n",
            "14/14 [==============================] - 0s 4ms/step - loss: 0.0465 - val_loss: 0.1111\n",
            "Epoch 112/600\n",
            "14/14 [==============================] - 0s 4ms/step - loss: 0.0379 - val_loss: 0.1147\n",
            "Epoch 113/600\n",
            "14/14 [==============================] - 0s 4ms/step - loss: 0.0743 - val_loss: 0.1049\n",
            "Epoch 114/600\n",
            "14/14 [==============================] - 0s 4ms/step - loss: 0.0372 - val_loss: 0.1149\n",
            "Epoch 115/600\n",
            "14/14 [==============================] - 0s 4ms/step - loss: 0.0448 - val_loss: 0.1180\n",
            "Epoch 116/600\n",
            "14/14 [==============================] - 0s 4ms/step - loss: 0.0489 - val_loss: 0.1093\n",
            "Epoch 117/600\n",
            "14/14 [==============================] - 0s 4ms/step - loss: 0.0359 - val_loss: 0.1141\n",
            "Epoch 118/600\n",
            "14/14 [==============================] - 0s 4ms/step - loss: 0.0403 - val_loss: 0.1071\n",
            "Epoch 119/600\n",
            "14/14 [==============================] - 0s 4ms/step - loss: 0.0399 - val_loss: 0.1114\n",
            "Epoch 120/600\n",
            "14/14 [==============================] - 0s 4ms/step - loss: 0.0515 - val_loss: 0.1050\n",
            "Epoch 121/600\n",
            "14/14 [==============================] - 0s 4ms/step - loss: 0.0371 - val_loss: 0.1109\n",
            "Epoch 122/600\n",
            "14/14 [==============================] - 0s 4ms/step - loss: 0.0546 - val_loss: 0.1112\n",
            "Epoch 123/600\n",
            "14/14 [==============================] - 0s 4ms/step - loss: 0.0361 - val_loss: 0.1174\n",
            "Epoch 124/600\n",
            "14/14 [==============================] - 0s 4ms/step - loss: 0.0527 - val_loss: 0.1073\n",
            "Epoch 125/600\n",
            "14/14 [==============================] - 0s 4ms/step - loss: 0.0439 - val_loss: 0.1115\n",
            "Epoch 126/600\n",
            "14/14 [==============================] - 0s 4ms/step - loss: 0.0429 - val_loss: 0.1152\n",
            "Epoch 127/600\n",
            "14/14 [==============================] - 0s 4ms/step - loss: 0.0451 - val_loss: 0.1102\n",
            "Epoch 128/600\n",
            "14/14 [==============================] - 0s 4ms/step - loss: 0.0401 - val_loss: 0.1173\n",
            "Epoch 129/600\n",
            "14/14 [==============================] - 0s 4ms/step - loss: 0.0349 - val_loss: 0.1140\n",
            "Epoch 130/600\n",
            "14/14 [==============================] - 0s 12ms/step - loss: 0.0502 - val_loss: 0.1114\n",
            "Epoch 131/600\n",
            "14/14 [==============================] - 0s 4ms/step - loss: 0.0361 - val_loss: 0.1179\n",
            "Epoch 132/600\n",
            "14/14 [==============================] - 0s 4ms/step - loss: 0.0372 - val_loss: 0.1224\n",
            "Epoch 133/600\n",
            "14/14 [==============================] - 0s 4ms/step - loss: 0.0334 - val_loss: 0.1140\n",
            "Epoch 134/600\n",
            "14/14 [==============================] - 0s 4ms/step - loss: 0.0564 - val_loss: 0.1113\n",
            "Epoch 135/600\n",
            "14/14 [==============================] - 0s 4ms/step - loss: 0.0363 - val_loss: 0.1171\n",
            "Epoch 136/600\n",
            "14/14 [==============================] - 0s 4ms/step - loss: 0.0335 - val_loss: 0.1192\n",
            "Epoch 137/600\n",
            "14/14 [==============================] - 0s 4ms/step - loss: 0.0419 - val_loss: 0.1234\n",
            "Epoch 138/600\n",
            "14/14 [==============================] - 0s 4ms/step - loss: 0.0368 - val_loss: 0.1119\n",
            "Epoch 139/600\n",
            "14/14 [==============================] - 0s 4ms/step - loss: 0.0284 - val_loss: 0.1171\n",
            "Epoch 140/600\n",
            "14/14 [==============================] - 0s 4ms/step - loss: 0.0384 - val_loss: 0.1151\n",
            "Epoch 141/600\n",
            "14/14 [==============================] - 0s 4ms/step - loss: 0.0398 - val_loss: 0.1188\n",
            "Epoch 142/600\n",
            "14/14 [==============================] - 0s 4ms/step - loss: 0.0471 - val_loss: 0.1214\n",
            "Epoch 143/600\n",
            "14/14 [==============================] - 0s 4ms/step - loss: 0.0440 - val_loss: 0.1119\n",
            "Epoch 144/600\n",
            "14/14 [==============================] - 0s 4ms/step - loss: 0.0414 - val_loss: 0.1163\n",
            "Epoch 145/600\n",
            "14/14 [==============================] - 0s 4ms/step - loss: 0.0394 - val_loss: 0.1148\n",
            "Epoch 146/600\n",
            "14/14 [==============================] - 0s 4ms/step - loss: 0.0431 - val_loss: 0.1170\n",
            "Epoch 147/600\n",
            "14/14 [==============================] - 0s 4ms/step - loss: 0.0358 - val_loss: 0.1292\n",
            "Epoch 148/600\n",
            "14/14 [==============================] - 0s 4ms/step - loss: 0.0416 - val_loss: 0.1120\n",
            "Epoch 149/600\n",
            "14/14 [==============================] - 0s 4ms/step - loss: 0.0328 - val_loss: 0.1332\n",
            "Epoch 150/600\n",
            "14/14 [==============================] - 0s 4ms/step - loss: 0.0425 - val_loss: 0.1216\n",
            "Epoch 151/600\n",
            "14/14 [==============================] - 0s 4ms/step - loss: 0.0379 - val_loss: 0.1174\n",
            "Epoch 152/600\n",
            "14/14 [==============================] - 0s 4ms/step - loss: 0.0344 - val_loss: 0.1237\n",
            "Epoch 153/600\n",
            "14/14 [==============================] - 0s 4ms/step - loss: 0.0313 - val_loss: 0.1197\n",
            "Epoch 154/600\n",
            "14/14 [==============================] - 0s 4ms/step - loss: 0.0352 - val_loss: 0.1204\n",
            "Epoch 155/600\n",
            "14/14 [==============================] - 0s 4ms/step - loss: 0.0388 - val_loss: 0.1269\n",
            "Epoch 156/600\n",
            "14/14 [==============================] - 0s 4ms/step - loss: 0.0433 - val_loss: 0.1138\n",
            "Epoch 157/600\n",
            "14/14 [==============================] - 0s 4ms/step - loss: 0.0303 - val_loss: 0.1281\n",
            "Epoch 158/600\n",
            "14/14 [==============================] - 0s 4ms/step - loss: 0.0440 - val_loss: 0.1248\n",
            "Epoch 159/600\n",
            "14/14 [==============================] - 0s 4ms/step - loss: 0.0331 - val_loss: 0.1197\n",
            "Epoch 160/600\n",
            "14/14 [==============================] - 0s 4ms/step - loss: 0.0429 - val_loss: 0.1191\n",
            "Epoch 161/600\n",
            "14/14 [==============================] - 0s 4ms/step - loss: 0.0410 - val_loss: 0.1222\n",
            "Epoch 162/600\n",
            "14/14 [==============================] - 0s 4ms/step - loss: 0.0365 - val_loss: 0.1193\n",
            "Epoch 163/600\n",
            "14/14 [==============================] - 0s 4ms/step - loss: 0.0433 - val_loss: 0.1178\n",
            "Epoch 164/600\n",
            "14/14 [==============================] - 0s 4ms/step - loss: 0.0359 - val_loss: 0.1213\n",
            "Epoch 165/600\n",
            "14/14 [==============================] - 0s 4ms/step - loss: 0.0410 - val_loss: 0.1213\n",
            "Epoch 166/600\n",
            "14/14 [==============================] - 0s 4ms/step - loss: 0.0312 - val_loss: 0.1167\n",
            "Epoch 167/600\n",
            "14/14 [==============================] - 0s 4ms/step - loss: 0.0313 - val_loss: 0.1198\n",
            "Epoch 168/600\n",
            "14/14 [==============================] - 0s 5ms/step - loss: 0.0322 - val_loss: 0.1201\n",
            "Epoch 169/600\n",
            "14/14 [==============================] - 0s 4ms/step - loss: 0.0349 - val_loss: 0.1113\n",
            "Epoch 170/600\n",
            "14/14 [==============================] - 0s 4ms/step - loss: 0.0299 - val_loss: 0.1272\n",
            "Epoch 171/600\n",
            "14/14 [==============================] - 0s 5ms/step - loss: 0.0610 - val_loss: 0.1091\n",
            "Epoch 172/600\n",
            "14/14 [==============================] - 0s 4ms/step - loss: 0.0354 - val_loss: 0.1272\n",
            "Epoch 173/600\n",
            "14/14 [==============================] - 0s 4ms/step - loss: 0.0386 - val_loss: 0.1130\n",
            "Epoch 174/600\n",
            "14/14 [==============================] - 0s 4ms/step - loss: 0.0328 - val_loss: 0.1197\n",
            "Epoch 175/600\n",
            "14/14 [==============================] - 0s 5ms/step - loss: 0.0417 - val_loss: 0.1144\n",
            "Epoch 176/600\n",
            "14/14 [==============================] - 0s 4ms/step - loss: 0.0432 - val_loss: 0.1195\n",
            "Epoch 177/600\n",
            "14/14 [==============================] - 0s 4ms/step - loss: 0.0316 - val_loss: 0.1201\n",
            "Epoch 178/600\n",
            "14/14 [==============================] - 0s 5ms/step - loss: 0.0263 - val_loss: 0.1196\n",
            "Epoch 179/600\n",
            "14/14 [==============================] - 0s 12ms/step - loss: 0.0334 - val_loss: 0.1235\n",
            "Epoch 180/600\n",
            "14/14 [==============================] - 0s 4ms/step - loss: 0.0378 - val_loss: 0.1154\n",
            "Epoch 181/600\n",
            "14/14 [==============================] - 0s 5ms/step - loss: 0.0388 - val_loss: 0.1209\n",
            "Epoch 182/600\n",
            "14/14 [==============================] - 0s 5ms/step - loss: 0.0321 - val_loss: 0.1181\n",
            "Epoch 183/600\n",
            "14/14 [==============================] - 0s 5ms/step - loss: 0.0257 - val_loss: 0.1279\n",
            "Epoch 184/600\n",
            "14/14 [==============================] - 0s 5ms/step - loss: 0.0305 - val_loss: 0.1196\n",
            "Epoch 185/600\n",
            "14/14 [==============================] - 0s 5ms/step - loss: 0.0306 - val_loss: 0.1282\n",
            "Epoch 186/600\n",
            "14/14 [==============================] - 0s 4ms/step - loss: 0.0251 - val_loss: 0.1157\n",
            "Epoch 187/600\n",
            "14/14 [==============================] - 0s 4ms/step - loss: 0.0409 - val_loss: 0.1306\n",
            "Epoch 188/600\n",
            "14/14 [==============================] - 0s 4ms/step - loss: 0.0360 - val_loss: 0.1227\n",
            "Epoch 189/600\n",
            "14/14 [==============================] - 0s 5ms/step - loss: 0.0340 - val_loss: 0.1243\n",
            "Epoch 190/600\n",
            "14/14 [==============================] - 0s 4ms/step - loss: 0.0366 - val_loss: 0.1327\n",
            "Epoch 191/600\n",
            "14/14 [==============================] - 0s 4ms/step - loss: 0.0307 - val_loss: 0.1219\n",
            "Epoch 192/600\n",
            "14/14 [==============================] - 0s 5ms/step - loss: 0.0375 - val_loss: 0.1198\n",
            "Epoch 193/600\n",
            "14/14 [==============================] - 0s 4ms/step - loss: 0.0367 - val_loss: 0.1270\n",
            "Epoch 194/600\n",
            "14/14 [==============================] - 0s 4ms/step - loss: 0.0325 - val_loss: 0.1291\n",
            "Epoch 195/600\n",
            "14/14 [==============================] - 0s 5ms/step - loss: 0.0240 - val_loss: 0.1219\n",
            "Epoch 196/600\n",
            "14/14 [==============================] - 0s 5ms/step - loss: 0.0392 - val_loss: 0.1197\n",
            "Epoch 197/600\n",
            "14/14 [==============================] - 0s 5ms/step - loss: 0.0437 - val_loss: 0.1228\n",
            "Epoch 198/600\n",
            "14/14 [==============================] - 0s 4ms/step - loss: 0.0363 - val_loss: 0.1157\n",
            "Epoch 199/600\n",
            "14/14 [==============================] - 0s 4ms/step - loss: 0.0337 - val_loss: 0.1267\n",
            "Epoch 200/600\n",
            "14/14 [==============================] - 0s 5ms/step - loss: 0.0414 - val_loss: 0.1216\n",
            "Epoch 201/600\n",
            "14/14 [==============================] - 0s 4ms/step - loss: 0.0363 - val_loss: 0.1144\n",
            "Epoch 202/600\n",
            "14/14 [==============================] - 0s 4ms/step - loss: 0.0298 - val_loss: 0.1297\n",
            "Epoch 203/600\n",
            "14/14 [==============================] - 0s 4ms/step - loss: 0.0293 - val_loss: 0.1187\n",
            "Epoch 204/600\n",
            "14/14 [==============================] - 0s 4ms/step - loss: 0.0307 - val_loss: 0.1260\n",
            "Epoch 205/600\n",
            "14/14 [==============================] - 0s 4ms/step - loss: 0.0289 - val_loss: 0.1423\n",
            "Epoch 206/600\n",
            "14/14 [==============================] - 0s 4ms/step - loss: 0.0549 - val_loss: 0.1148\n",
            "Epoch 207/600\n",
            "14/14 [==============================] - 0s 4ms/step - loss: 0.0378 - val_loss: 0.1247\n",
            "Epoch 208/600\n",
            "14/14 [==============================] - 0s 4ms/step - loss: 0.0309 - val_loss: 0.1276\n",
            "Epoch 209/600\n",
            "14/14 [==============================] - 0s 4ms/step - loss: 0.0269 - val_loss: 0.1266\n",
            "Epoch 210/600\n",
            "14/14 [==============================] - 0s 4ms/step - loss: 0.0278 - val_loss: 0.1254\n",
            "Epoch 211/600\n",
            "14/14 [==============================] - 0s 4ms/step - loss: 0.0257 - val_loss: 0.1308\n",
            "Epoch 212/600\n",
            "14/14 [==============================] - 0s 4ms/step - loss: 0.0368 - val_loss: 0.1147\n",
            "Epoch 213/600\n",
            "14/14 [==============================] - 0s 4ms/step - loss: 0.0297 - val_loss: 0.1272\n",
            "Epoch 214/600\n",
            "14/14 [==============================] - 0s 4ms/step - loss: 0.0266 - val_loss: 0.1317\n",
            "Epoch 215/600\n",
            "14/14 [==============================] - 0s 4ms/step - loss: 0.0251 - val_loss: 0.1221\n",
            "Epoch 216/600\n",
            "14/14 [==============================] - 0s 4ms/step - loss: 0.0203 - val_loss: 0.1230\n",
            "Epoch 217/600\n",
            "14/14 [==============================] - 0s 4ms/step - loss: 0.0269 - val_loss: 0.1347\n",
            "Epoch 218/600\n",
            "14/14 [==============================] - 0s 4ms/step - loss: 0.0328 - val_loss: 0.1244\n",
            "Epoch 219/600\n",
            "14/14 [==============================] - 0s 4ms/step - loss: 0.0434 - val_loss: 0.1222\n",
            "Epoch 220/600\n",
            "14/14 [==============================] - 0s 4ms/step - loss: 0.0309 - val_loss: 0.1440\n",
            "Epoch 221/600\n",
            "14/14 [==============================] - 0s 4ms/step - loss: 0.0306 - val_loss: 0.1183\n",
            "Epoch 222/600\n",
            "14/14 [==============================] - 0s 4ms/step - loss: 0.0311 - val_loss: 0.1374\n",
            "Epoch 223/600\n",
            "14/14 [==============================] - 0s 4ms/step - loss: 0.0321 - val_loss: 0.1279\n",
            "Epoch 224/600\n",
            "14/14 [==============================] - 0s 4ms/step - loss: 0.0303 - val_loss: 0.1243\n",
            "Epoch 225/600\n",
            "14/14 [==============================] - 0s 4ms/step - loss: 0.0312 - val_loss: 0.1219\n",
            "Epoch 226/600\n",
            "14/14 [==============================] - 0s 4ms/step - loss: 0.0289 - val_loss: 0.1336\n",
            "Epoch 227/600\n",
            "14/14 [==============================] - 0s 4ms/step - loss: 0.0255 - val_loss: 0.1313\n",
            "Epoch 228/600\n",
            "14/14 [==============================] - 0s 5ms/step - loss: 0.0306 - val_loss: 0.1267\n",
            "Epoch 229/600\n",
            "14/14 [==============================] - 0s 5ms/step - loss: 0.0276 - val_loss: 0.1206\n",
            "Epoch 230/600\n",
            "14/14 [==============================] - 0s 4ms/step - loss: 0.0374 - val_loss: 0.1314\n",
            "Epoch 231/600\n",
            "14/14 [==============================] - 0s 4ms/step - loss: 0.0315 - val_loss: 0.1237\n",
            "Epoch 232/600\n",
            "14/14 [==============================] - 0s 4ms/step - loss: 0.0340 - val_loss: 0.1281\n",
            "Epoch 233/600\n",
            "14/14 [==============================] - 0s 4ms/step - loss: 0.0305 - val_loss: 0.1238\n",
            "Epoch 234/600\n",
            "14/14 [==============================] - 0s 4ms/step - loss: 0.0178 - val_loss: 0.1262\n",
            "Epoch 235/600\n",
            "14/14 [==============================] - 0s 4ms/step - loss: 0.0321 - val_loss: 0.1256\n",
            "Epoch 236/600\n",
            "14/14 [==============================] - 0s 4ms/step - loss: 0.0306 - val_loss: 0.1342\n",
            "Epoch 237/600\n",
            "14/14 [==============================] - 0s 4ms/step - loss: 0.0285 - val_loss: 0.1328\n",
            "Epoch 238/600\n",
            "14/14 [==============================] - 0s 5ms/step - loss: 0.0225 - val_loss: 0.1307\n",
            "Epoch 239/600\n",
            "14/14 [==============================] - 0s 12ms/step - loss: 0.0211 - val_loss: 0.1292\n",
            "Epoch 240/600\n",
            "14/14 [==============================] - 0s 4ms/step - loss: 0.0275 - val_loss: 0.1305\n",
            "Epoch 241/600\n",
            "14/14 [==============================] - 0s 5ms/step - loss: 0.0279 - val_loss: 0.1242\n",
            "Epoch 242/600\n",
            "14/14 [==============================] - 0s 4ms/step - loss: 0.0274 - val_loss: 0.1246\n",
            "Epoch 243/600\n",
            "14/14 [==============================] - 0s 5ms/step - loss: 0.0263 - val_loss: 0.1285\n",
            "Epoch 244/600\n",
            "14/14 [==============================] - 0s 5ms/step - loss: 0.0282 - val_loss: 0.1258\n",
            "Epoch 245/600\n",
            "14/14 [==============================] - 0s 5ms/step - loss: 0.0268 - val_loss: 0.1364\n",
            "Epoch 246/600\n",
            "14/14 [==============================] - 0s 5ms/step - loss: 0.0292 - val_loss: 0.1272\n",
            "Epoch 247/600\n",
            "14/14 [==============================] - 0s 4ms/step - loss: 0.0211 - val_loss: 0.1307\n",
            "Epoch 248/600\n",
            "14/14 [==============================] - 0s 5ms/step - loss: 0.0279 - val_loss: 0.1405\n",
            "Epoch 249/600\n",
            "14/14 [==============================] - 0s 4ms/step - loss: 0.0243 - val_loss: 0.1237\n",
            "Epoch 250/600\n",
            "14/14 [==============================] - 0s 4ms/step - loss: 0.0276 - val_loss: 0.1591\n",
            "Epoch 251/600\n",
            "14/14 [==============================] - 0s 4ms/step - loss: 0.0371 - val_loss: 0.1238\n",
            "Epoch 252/600\n",
            "14/14 [==============================] - 0s 5ms/step - loss: 0.0302 - val_loss: 0.1339\n",
            "Epoch 253/600\n",
            "14/14 [==============================] - 0s 4ms/step - loss: 0.0310 - val_loss: 0.1284\n",
            "Epoch 254/600\n",
            "14/14 [==============================] - 0s 4ms/step - loss: 0.0288 - val_loss: 0.1252\n",
            "Epoch 255/600\n",
            "14/14 [==============================] - 0s 4ms/step - loss: 0.0273 - val_loss: 0.1289\n",
            "Epoch 256/600\n",
            "14/14 [==============================] - 0s 4ms/step - loss: 0.0260 - val_loss: 0.1481\n",
            "Epoch 257/600\n",
            "14/14 [==============================] - 0s 4ms/step - loss: 0.0301 - val_loss: 0.1237\n",
            "Epoch 258/600\n",
            "14/14 [==============================] - 0s 4ms/step - loss: 0.0284 - val_loss: 0.1396\n",
            "Epoch 259/600\n",
            "14/14 [==============================] - 0s 4ms/step - loss: 0.0312 - val_loss: 0.1210\n",
            "Epoch 260/600\n",
            "14/14 [==============================] - 0s 4ms/step - loss: 0.0396 - val_loss: 0.1234\n",
            "Epoch 261/600\n",
            "14/14 [==============================] - 0s 4ms/step - loss: 0.0244 - val_loss: 0.1425\n",
            "Epoch 262/600\n",
            "14/14 [==============================] - 0s 4ms/step - loss: 0.0304 - val_loss: 0.1258\n",
            "Epoch 263/600\n",
            "14/14 [==============================] - 0s 4ms/step - loss: 0.0344 - val_loss: 0.1588\n",
            "Epoch 264/600\n",
            "14/14 [==============================] - 0s 4ms/step - loss: 0.0317 - val_loss: 0.1232\n",
            "Epoch 265/600\n",
            "14/14 [==============================] - 0s 4ms/step - loss: 0.0282 - val_loss: 0.1474\n",
            "Epoch 266/600\n",
            "14/14 [==============================] - 0s 4ms/step - loss: 0.0257 - val_loss: 0.1259\n",
            "Epoch 267/600\n",
            "14/14 [==============================] - 0s 4ms/step - loss: 0.0221 - val_loss: 0.1426\n",
            "Epoch 268/600\n",
            "14/14 [==============================] - 0s 4ms/step - loss: 0.0306 - val_loss: 0.1260\n",
            "Epoch 269/600\n",
            "14/14 [==============================] - 0s 4ms/step - loss: 0.0239 - val_loss: 0.1423\n",
            "Epoch 270/600\n",
            "14/14 [==============================] - 0s 4ms/step - loss: 0.0281 - val_loss: 0.1342\n",
            "Epoch 271/600\n",
            "14/14 [==============================] - 0s 4ms/step - loss: 0.0279 - val_loss: 0.1232\n",
            "Epoch 272/600\n",
            "14/14 [==============================] - 0s 4ms/step - loss: 0.0205 - val_loss: 0.1431\n",
            "Epoch 273/600\n",
            "14/14 [==============================] - 0s 4ms/step - loss: 0.0223 - val_loss: 0.1234\n",
            "Epoch 274/600\n",
            "14/14 [==============================] - 0s 4ms/step - loss: 0.0214 - val_loss: 0.1385\n",
            "Epoch 275/600\n",
            "14/14 [==============================] - 0s 4ms/step - loss: 0.0248 - val_loss: 0.1278\n",
            "Epoch 276/600\n",
            "14/14 [==============================] - 0s 4ms/step - loss: 0.0247 - val_loss: 0.1448\n",
            "Epoch 277/600\n",
            "14/14 [==============================] - 0s 4ms/step - loss: 0.0271 - val_loss: 0.1276\n",
            "Epoch 278/600\n",
            "14/14 [==============================] - 0s 4ms/step - loss: 0.0241 - val_loss: 0.1309\n",
            "Epoch 279/600\n",
            "14/14 [==============================] - 0s 4ms/step - loss: 0.0213 - val_loss: 0.1464\n",
            "Epoch 280/600\n",
            "14/14 [==============================] - 0s 4ms/step - loss: 0.0303 - val_loss: 0.1227\n",
            "Epoch 281/600\n",
            "14/14 [==============================] - 0s 5ms/step - loss: 0.0306 - val_loss: 0.1461\n",
            "Epoch 282/600\n",
            "14/14 [==============================] - 0s 4ms/step - loss: 0.0232 - val_loss: 0.1231\n",
            "Epoch 283/600\n",
            "14/14 [==============================] - 0s 4ms/step - loss: 0.0218 - val_loss: 0.1319\n",
            "Epoch 284/600\n",
            "14/14 [==============================] - 0s 4ms/step - loss: 0.0248 - val_loss: 0.1427\n",
            "Epoch 285/600\n",
            "14/14 [==============================] - 0s 4ms/step - loss: 0.0291 - val_loss: 0.1319\n",
            "Epoch 286/600\n",
            "14/14 [==============================] - 0s 4ms/step - loss: 0.0270 - val_loss: 0.1269\n",
            "Epoch 287/600\n",
            "14/14 [==============================] - 0s 12ms/step - loss: 0.0189 - val_loss: 0.1376\n",
            "Epoch 288/600\n",
            "14/14 [==============================] - 0s 5ms/step - loss: 0.0243 - val_loss: 0.1328\n",
            "Epoch 289/600\n",
            "14/14 [==============================] - 0s 4ms/step - loss: 0.0168 - val_loss: 0.1371\n",
            "Epoch 290/600\n",
            "14/14 [==============================] - 0s 5ms/step - loss: 0.0258 - val_loss: 0.1406\n",
            "Epoch 291/600\n",
            "14/14 [==============================] - 0s 4ms/step - loss: 0.0211 - val_loss: 0.1302\n",
            "Epoch 292/600\n",
            "14/14 [==============================] - 0s 5ms/step - loss: 0.0227 - val_loss: 0.1394\n",
            "Epoch 293/600\n",
            "14/14 [==============================] - 0s 4ms/step - loss: 0.0266 - val_loss: 0.1298\n",
            "Epoch 294/600\n",
            "14/14 [==============================] - 0s 4ms/step - loss: 0.0200 - val_loss: 0.1326\n",
            "Epoch 295/600\n",
            "14/14 [==============================] - 0s 4ms/step - loss: 0.0209 - val_loss: 0.1277\n",
            "Epoch 296/600\n",
            "14/14 [==============================] - 0s 4ms/step - loss: 0.0310 - val_loss: 0.1396\n",
            "Epoch 297/600\n",
            "14/14 [==============================] - 0s 4ms/step - loss: 0.0252 - val_loss: 0.1357\n",
            "Epoch 298/600\n",
            "14/14 [==============================] - 0s 4ms/step - loss: 0.0263 - val_loss: 0.1283\n",
            "Epoch 299/600\n",
            "14/14 [==============================] - 0s 4ms/step - loss: 0.0235 - val_loss: 0.1306\n",
            "Epoch 300/600\n",
            "14/14 [==============================] - 0s 4ms/step - loss: 0.0144 - val_loss: 0.1418\n",
            "Epoch 301/600\n",
            "14/14 [==============================] - 0s 4ms/step - loss: 0.0213 - val_loss: 0.1326\n",
            "Epoch 302/600\n",
            "14/14 [==============================] - 0s 4ms/step - loss: 0.0226 - val_loss: 0.1282\n",
            "Epoch 303/600\n",
            "14/14 [==============================] - 0s 4ms/step - loss: 0.0172 - val_loss: 0.1386\n",
            "Epoch 304/600\n",
            "14/14 [==============================] - 0s 4ms/step - loss: 0.0212 - val_loss: 0.1330\n",
            "Epoch 305/600\n",
            "14/14 [==============================] - 0s 4ms/step - loss: 0.0188 - val_loss: 0.1369\n",
            "Epoch 306/600\n",
            "14/14 [==============================] - 0s 4ms/step - loss: 0.0253 - val_loss: 0.1322\n",
            "Epoch 307/600\n",
            "14/14 [==============================] - 0s 4ms/step - loss: 0.0219 - val_loss: 0.1330\n",
            "Epoch 308/600\n",
            "14/14 [==============================] - 0s 4ms/step - loss: 0.0246 - val_loss: 0.1347\n",
            "Epoch 309/600\n",
            "14/14 [==============================] - 0s 4ms/step - loss: 0.0277 - val_loss: 0.1294\n",
            "Epoch 310/600\n",
            "14/14 [==============================] - 0s 4ms/step - loss: 0.0178 - val_loss: 0.1595\n",
            "Epoch 311/600\n",
            "14/14 [==============================] - 0s 4ms/step - loss: 0.0223 - val_loss: 0.1329\n",
            "Epoch 312/600\n",
            "14/14 [==============================] - 0s 4ms/step - loss: 0.0205 - val_loss: 0.1474\n",
            "Epoch 313/600\n",
            "14/14 [==============================] - 0s 5ms/step - loss: 0.0215 - val_loss: 0.1297\n",
            "Epoch 314/600\n",
            "14/14 [==============================] - 0s 4ms/step - loss: 0.0219 - val_loss: 0.1425\n",
            "Epoch 315/600\n",
            "14/14 [==============================] - 0s 5ms/step - loss: 0.0202 - val_loss: 0.1451\n",
            "Epoch 316/600\n",
            "14/14 [==============================] - 0s 4ms/step - loss: 0.0257 - val_loss: 0.1492\n",
            "Epoch 317/600\n",
            "14/14 [==============================] - 0s 4ms/step - loss: 0.0243 - val_loss: 0.1412\n",
            "Epoch 318/600\n",
            "14/14 [==============================] - 0s 4ms/step - loss: 0.0189 - val_loss: 0.1374\n",
            "Epoch 319/600\n",
            "14/14 [==============================] - 0s 4ms/step - loss: 0.0201 - val_loss: 0.1414\n",
            "Epoch 320/600\n",
            "14/14 [==============================] - 0s 4ms/step - loss: 0.0216 - val_loss: 0.1370\n",
            "Epoch 321/600\n",
            "14/14 [==============================] - 0s 4ms/step - loss: 0.0231 - val_loss: 0.1309\n",
            "Epoch 322/600\n",
            "14/14 [==============================] - 0s 4ms/step - loss: 0.0136 - val_loss: 0.1417\n",
            "Epoch 323/600\n",
            "14/14 [==============================] - 0s 4ms/step - loss: 0.0213 - val_loss: 0.1425\n",
            "Epoch 324/600\n",
            "14/14 [==============================] - 0s 4ms/step - loss: 0.0229 - val_loss: 0.1492\n",
            "Epoch 325/600\n",
            "14/14 [==============================] - 0s 4ms/step - loss: 0.0201 - val_loss: 0.1388\n",
            "Epoch 326/600\n",
            "14/14 [==============================] - 0s 4ms/step - loss: 0.0162 - val_loss: 0.1381\n",
            "Epoch 327/600\n",
            "14/14 [==============================] - 0s 4ms/step - loss: 0.0158 - val_loss: 0.1338\n",
            "Epoch 328/600\n",
            "14/14 [==============================] - 0s 4ms/step - loss: 0.0136 - val_loss: 0.1440\n",
            "Epoch 329/600\n",
            "14/14 [==============================] - 0s 4ms/step - loss: 0.0238 - val_loss: 0.1309\n",
            "Epoch 330/600\n",
            "14/14 [==============================] - 0s 5ms/step - loss: 0.0157 - val_loss: 0.1423\n",
            "Epoch 331/600\n",
            "14/14 [==============================] - 0s 4ms/step - loss: 0.0164 - val_loss: 0.1392\n",
            "Epoch 332/600\n",
            "14/14 [==============================] - 0s 4ms/step - loss: 0.0174 - val_loss: 0.1330\n",
            "Epoch 333/600\n",
            "14/14 [==============================] - 0s 4ms/step - loss: 0.0285 - val_loss: 0.1262\n",
            "Epoch 334/600\n",
            "14/14 [==============================] - 0s 4ms/step - loss: 0.0195 - val_loss: 0.2043\n",
            "Epoch 335/600\n",
            "14/14 [==============================] - 0s 5ms/step - loss: 0.0312 - val_loss: 0.1305\n",
            "Epoch 336/600\n",
            "14/14 [==============================] - 0s 4ms/step - loss: 0.0431 - val_loss: 0.1646\n",
            "Epoch 337/600\n",
            "14/14 [==============================] - 0s 4ms/step - loss: 0.0178 - val_loss: 0.1401\n",
            "Epoch 338/600\n",
            "14/14 [==============================] - 0s 4ms/step - loss: 0.0212 - val_loss: 0.1374\n",
            "Epoch 339/600\n",
            "14/14 [==============================] - 0s 4ms/step - loss: 0.0144 - val_loss: 0.1342\n",
            "Epoch 340/600\n",
            "14/14 [==============================] - 0s 4ms/step - loss: 0.0248 - val_loss: 0.1507\n",
            "Epoch 341/600\n",
            "14/14 [==============================] - 0s 5ms/step - loss: 0.0173 - val_loss: 0.1425\n",
            "Epoch 342/600\n",
            "14/14 [==============================] - 0s 4ms/step - loss: 0.0138 - val_loss: 0.1429\n",
            "Epoch 343/600\n",
            "14/14 [==============================] - 0s 4ms/step - loss: 0.0156 - val_loss: 0.1331\n",
            "Epoch 344/600\n",
            "14/14 [==============================] - 0s 5ms/step - loss: 0.0208 - val_loss: 0.1614\n",
            "Epoch 345/600\n",
            "14/14 [==============================] - 0s 13ms/step - loss: 0.0233 - val_loss: 0.1324\n",
            "Epoch 346/600\n",
            "14/14 [==============================] - 0s 4ms/step - loss: 0.0130 - val_loss: 0.1441\n",
            "Epoch 347/600\n",
            "14/14 [==============================] - 0s 4ms/step - loss: 0.0169 - val_loss: 0.1290\n",
            "Epoch 348/600\n",
            "14/14 [==============================] - 0s 4ms/step - loss: 0.0209 - val_loss: 0.1689\n",
            "Epoch 349/600\n",
            "14/14 [==============================] - 0s 4ms/step - loss: 0.0215 - val_loss: 0.1342\n",
            "Epoch 350/600\n",
            "14/14 [==============================] - 0s 4ms/step - loss: 0.0150 - val_loss: 0.1415\n",
            "Epoch 351/600\n",
            "14/14 [==============================] - 0s 4ms/step - loss: 0.0172 - val_loss: 0.1572\n",
            "Epoch 352/600\n",
            "14/14 [==============================] - 0s 4ms/step - loss: 0.0159 - val_loss: 0.1395\n",
            "Epoch 353/600\n",
            "14/14 [==============================] - 0s 5ms/step - loss: 0.0159 - val_loss: 0.1321\n",
            "Epoch 354/600\n",
            "14/14 [==============================] - 0s 5ms/step - loss: 0.0201 - val_loss: 0.1307\n",
            "Epoch 355/600\n",
            "14/14 [==============================] - 0s 5ms/step - loss: 0.0188 - val_loss: 0.1333\n",
            "Epoch 356/600\n",
            "14/14 [==============================] - 0s 4ms/step - loss: 0.0167 - val_loss: 0.1596\n",
            "Epoch 357/600\n",
            "14/14 [==============================] - 0s 5ms/step - loss: 0.0204 - val_loss: 0.1367\n",
            "Epoch 358/600\n",
            "14/14 [==============================] - 0s 5ms/step - loss: 0.0126 - val_loss: 0.1545\n",
            "Epoch 359/600\n",
            "14/14 [==============================] - 0s 4ms/step - loss: 0.0218 - val_loss: 0.1312\n",
            "Epoch 360/600\n",
            "14/14 [==============================] - 0s 4ms/step - loss: 0.0150 - val_loss: 0.1401\n",
            "Epoch 361/600\n",
            "14/14 [==============================] - 0s 4ms/step - loss: 0.0207 - val_loss: 0.1339\n",
            "Epoch 362/600\n",
            "14/14 [==============================] - 0s 4ms/step - loss: 0.0175 - val_loss: 0.1389\n",
            "Epoch 363/600\n",
            "14/14 [==============================] - 0s 4ms/step - loss: 0.0163 - val_loss: 0.1432\n",
            "Epoch 364/600\n",
            "14/14 [==============================] - 0s 4ms/step - loss: 0.0150 - val_loss: 0.1417\n",
            "Epoch 365/600\n",
            "14/14 [==============================] - 0s 4ms/step - loss: 0.0193 - val_loss: 0.1543\n",
            "Epoch 366/600\n",
            "14/14 [==============================] - 0s 4ms/step - loss: 0.0174 - val_loss: 0.1305\n",
            "Epoch 367/600\n",
            "14/14 [==============================] - 0s 4ms/step - loss: 0.0193 - val_loss: 0.1407\n",
            "Epoch 368/600\n",
            "14/14 [==============================] - 0s 5ms/step - loss: 0.0125 - val_loss: 0.1449\n",
            "Epoch 369/600\n",
            "14/14 [==============================] - 0s 4ms/step - loss: 0.0229 - val_loss: 0.1315\n",
            "Epoch 370/600\n",
            "14/14 [==============================] - 0s 4ms/step - loss: 0.0216 - val_loss: 0.1350\n",
            "Epoch 371/600\n",
            "14/14 [==============================] - 0s 4ms/step - loss: 0.0121 - val_loss: 0.1329\n",
            "Epoch 372/600\n",
            "14/14 [==============================] - 0s 4ms/step - loss: 0.0137 - val_loss: 0.1353\n",
            "Epoch 373/600\n",
            "14/14 [==============================] - 0s 5ms/step - loss: 0.0144 - val_loss: 0.1418\n",
            "Epoch 374/600\n",
            "14/14 [==============================] - 0s 4ms/step - loss: 0.0164 - val_loss: 0.1673\n",
            "Epoch 375/600\n",
            "14/14 [==============================] - 0s 4ms/step - loss: 0.0217 - val_loss: 0.1273\n",
            "Epoch 376/600\n",
            "14/14 [==============================] - 0s 4ms/step - loss: 0.0143 - val_loss: 0.1352\n",
            "Epoch 377/600\n",
            "14/14 [==============================] - 0s 4ms/step - loss: 0.0194 - val_loss: 0.1347\n",
            "Epoch 378/600\n",
            "14/14 [==============================] - 0s 4ms/step - loss: 0.0158 - val_loss: 0.1380\n",
            "Epoch 379/600\n",
            "14/14 [==============================] - 0s 4ms/step - loss: 0.0117 - val_loss: 0.1457\n",
            "Epoch 380/600\n",
            "14/14 [==============================] - 0s 5ms/step - loss: 0.0127 - val_loss: 0.1432\n",
            "Epoch 381/600\n",
            "14/14 [==============================] - 0s 4ms/step - loss: 0.0126 - val_loss: 0.1334\n",
            "Epoch 382/600\n",
            "14/14 [==============================] - 0s 4ms/step - loss: 0.0155 - val_loss: 0.1568\n",
            "Epoch 383/600\n",
            "14/14 [==============================] - 0s 4ms/step - loss: 0.0116 - val_loss: 0.1310\n",
            "Epoch 384/600\n",
            "14/14 [==============================] - 0s 5ms/step - loss: 0.0240 - val_loss: 0.1729\n",
            "Epoch 385/600\n",
            "14/14 [==============================] - 0s 4ms/step - loss: 0.0235 - val_loss: 0.1281\n",
            "Epoch 386/600\n",
            "14/14 [==============================] - 0s 4ms/step - loss: 0.0138 - val_loss: 0.1860\n",
            "Epoch 387/600\n",
            "14/14 [==============================] - 0s 4ms/step - loss: 0.0239 - val_loss: 0.1326\n",
            "Epoch 388/600\n",
            "14/14 [==============================] - 0s 5ms/step - loss: 0.0175 - val_loss: 0.1598\n",
            "Epoch 389/600\n",
            "14/14 [==============================] - 0s 5ms/step - loss: 0.0183 - val_loss: 0.1344\n",
            "Epoch 390/600\n",
            "14/14 [==============================] - 0s 4ms/step - loss: 0.0156 - val_loss: 0.1546\n",
            "Epoch 391/600\n",
            "14/14 [==============================] - 0s 4ms/step - loss: 0.0150 - val_loss: 0.1396\n",
            "Epoch 392/600\n",
            "14/14 [==============================] - 0s 4ms/step - loss: 0.0099 - val_loss: 0.1374\n",
            "Epoch 393/600\n",
            "14/14 [==============================] - 0s 12ms/step - loss: 0.0206 - val_loss: 0.1397\n",
            "Epoch 394/600\n",
            "14/14 [==============================] - 0s 5ms/step - loss: 0.0127 - val_loss: 0.1398\n",
            "Epoch 395/600\n",
            "14/14 [==============================] - 0s 4ms/step - loss: 0.0122 - val_loss: 0.1440\n",
            "Epoch 396/600\n",
            "14/14 [==============================] - 0s 4ms/step - loss: 0.0161 - val_loss: 0.1378\n",
            "Epoch 397/600\n",
            "14/14 [==============================] - 0s 5ms/step - loss: 0.0154 - val_loss: 0.1490\n",
            "Epoch 398/600\n",
            "14/14 [==============================] - 0s 4ms/step - loss: 0.0142 - val_loss: 0.1343\n",
            "Epoch 399/600\n",
            "14/14 [==============================] - 0s 4ms/step - loss: 0.0142 - val_loss: 0.1473\n",
            "Epoch 400/600\n",
            "14/14 [==============================] - 0s 4ms/step - loss: 0.0130 - val_loss: 0.1417\n",
            "Epoch 401/600\n",
            "14/14 [==============================] - 0s 4ms/step - loss: 0.0176 - val_loss: 0.1358\n",
            "Epoch 402/600\n",
            "14/14 [==============================] - 0s 5ms/step - loss: 0.0160 - val_loss: 0.1440\n",
            "Epoch 403/600\n",
            "14/14 [==============================] - 0s 4ms/step - loss: 0.0109 - val_loss: 0.1552\n",
            "Epoch 404/600\n",
            "14/14 [==============================] - 0s 4ms/step - loss: 0.0196 - val_loss: 0.1334\n",
            "Epoch 405/600\n",
            "14/14 [==============================] - 0s 4ms/step - loss: 0.0165 - val_loss: 0.1573\n",
            "Epoch 406/600\n",
            "14/14 [==============================] - 0s 4ms/step - loss: 0.0173 - val_loss: 0.1603\n",
            "Epoch 407/600\n",
            "14/14 [==============================] - 0s 4ms/step - loss: 0.0193 - val_loss: 0.1287\n",
            "Epoch 408/600\n",
            "14/14 [==============================] - 0s 4ms/step - loss: 0.0151 - val_loss: 0.1460\n",
            "Epoch 409/600\n",
            "14/14 [==============================] - 0s 4ms/step - loss: 0.0160 - val_loss: 0.1512\n",
            "Epoch 410/600\n",
            "14/14 [==============================] - 0s 4ms/step - loss: 0.0174 - val_loss: 0.1374\n",
            "Epoch 411/600\n",
            "14/14 [==============================] - 0s 4ms/step - loss: 0.0118 - val_loss: 0.1742\n",
            "Epoch 412/600\n",
            "14/14 [==============================] - 0s 5ms/step - loss: 0.0126 - val_loss: 0.1364\n",
            "Epoch 413/600\n",
            "14/14 [==============================] - 0s 5ms/step - loss: 0.0137 - val_loss: 0.1508\n",
            "Epoch 414/600\n",
            "14/14 [==============================] - 0s 4ms/step - loss: 0.0118 - val_loss: 0.1517\n",
            "Epoch 415/600\n",
            "14/14 [==============================] - 0s 5ms/step - loss: 0.0121 - val_loss: 0.1360\n",
            "Epoch 416/600\n",
            "14/14 [==============================] - 0s 4ms/step - loss: 0.0090 - val_loss: 0.1452\n",
            "Epoch 417/600\n",
            "14/14 [==============================] - 0s 5ms/step - loss: 0.0178 - val_loss: 0.1365\n",
            "Epoch 418/600\n",
            "14/14 [==============================] - 0s 5ms/step - loss: 0.0141 - val_loss: 0.1635\n",
            "Epoch 419/600\n",
            "14/14 [==============================] - 0s 4ms/step - loss: 0.0122 - val_loss: 0.1364\n",
            "Epoch 420/600\n",
            "14/14 [==============================] - 0s 4ms/step - loss: 0.0160 - val_loss: 0.1480\n",
            "Epoch 421/600\n",
            "14/14 [==============================] - 0s 4ms/step - loss: 0.0131 - val_loss: 0.1319\n",
            "Epoch 422/600\n",
            "14/14 [==============================] - 0s 5ms/step - loss: 0.0118 - val_loss: 0.1511\n",
            "Epoch 423/600\n",
            "14/14 [==============================] - 0s 4ms/step - loss: 0.0120 - val_loss: 0.1435\n",
            "Epoch 424/600\n",
            "14/14 [==============================] - 0s 4ms/step - loss: 0.0080 - val_loss: 0.1431\n",
            "Epoch 425/600\n",
            "14/14 [==============================] - 0s 4ms/step - loss: 0.0119 - val_loss: 0.1489\n",
            "Epoch 426/600\n",
            "14/14 [==============================] - 0s 4ms/step - loss: 0.0092 - val_loss: 0.1390\n",
            "Epoch 427/600\n",
            "14/14 [==============================] - 0s 4ms/step - loss: 0.0093 - val_loss: 0.1495\n",
            "Epoch 428/600\n",
            "14/14 [==============================] - 0s 4ms/step - loss: 0.0109 - val_loss: 0.1407\n",
            "Epoch 429/600\n",
            "14/14 [==============================] - 0s 4ms/step - loss: 0.0088 - val_loss: 0.1492\n",
            "Epoch 430/600\n",
            "14/14 [==============================] - 0s 5ms/step - loss: 0.0099 - val_loss: 0.1473\n",
            "Epoch 431/600\n",
            "14/14 [==============================] - 0s 5ms/step - loss: 0.0104 - val_loss: 0.1495\n",
            "Epoch 432/600\n",
            "14/14 [==============================] - 0s 5ms/step - loss: 0.0155 - val_loss: 0.1438\n",
            "Epoch 433/600\n",
            "14/14 [==============================] - 0s 4ms/step - loss: 0.0094 - val_loss: 0.1498\n",
            "Epoch 434/600\n",
            "14/14 [==============================] - 0s 4ms/step - loss: 0.0123 - val_loss: 0.1347\n",
            "Epoch 435/600\n",
            "14/14 [==============================] - 0s 4ms/step - loss: 0.0099 - val_loss: 0.1568\n",
            "Epoch 436/600\n",
            "14/14 [==============================] - 0s 4ms/step - loss: 0.0138 - val_loss: 0.1352\n",
            "Epoch 437/600\n",
            "14/14 [==============================] - 0s 4ms/step - loss: 0.0156 - val_loss: 0.1765\n",
            "Epoch 438/600\n",
            "14/14 [==============================] - 0s 4ms/step - loss: 0.0144 - val_loss: 0.1462\n",
            "Epoch 439/600\n",
            "14/14 [==============================] - 0s 5ms/step - loss: 0.0115 - val_loss: 0.1497\n",
            "Epoch 440/600\n",
            "14/14 [==============================] - 0s 4ms/step - loss: 0.0123 - val_loss: 0.1456\n",
            "Epoch 441/600\n",
            "14/14 [==============================] - 0s 5ms/step - loss: 0.0097 - val_loss: 0.1490\n",
            "Epoch 442/600\n",
            "14/14 [==============================] - 0s 5ms/step - loss: 0.0097 - val_loss: 0.1503\n",
            "Epoch 443/600\n",
            "14/14 [==============================] - 0s 5ms/step - loss: 0.0099 - val_loss: 0.1407\n",
            "Epoch 444/600\n",
            "14/14 [==============================] - 0s 5ms/step - loss: 0.0124 - val_loss: 0.1968\n",
            "Epoch 445/600\n",
            "14/14 [==============================] - 0s 4ms/step - loss: 0.0165 - val_loss: 0.1426\n",
            "Epoch 446/600\n",
            "14/14 [==============================] - 0s 4ms/step - loss: 0.0110 - val_loss: 0.1524\n",
            "Epoch 447/600\n",
            "14/14 [==============================] - 0s 5ms/step - loss: 0.0086 - val_loss: 0.1548\n",
            "Epoch 448/600\n",
            "14/14 [==============================] - 0s 4ms/step - loss: 0.0090 - val_loss: 0.1454\n",
            "Epoch 449/600\n",
            "14/14 [==============================] - 0s 5ms/step - loss: 0.0112 - val_loss: 0.1420\n",
            "Epoch 450/600\n",
            "14/14 [==============================] - 0s 4ms/step - loss: 0.0064 - val_loss: 0.1602\n",
            "Epoch 451/600\n",
            "14/14 [==============================] - 0s 12ms/step - loss: 0.0124 - val_loss: 0.1365\n",
            "Epoch 452/600\n",
            "14/14 [==============================] - 0s 5ms/step - loss: 0.0205 - val_loss: 0.1524\n",
            "Epoch 453/600\n",
            "14/14 [==============================] - 0s 4ms/step - loss: 0.0106 - val_loss: 0.1428\n",
            "Epoch 454/600\n",
            "14/14 [==============================] - 0s 5ms/step - loss: 0.0083 - val_loss: 0.1457\n",
            "Epoch 455/600\n",
            "14/14 [==============================] - 0s 4ms/step - loss: 0.0136 - val_loss: 0.1584\n",
            "Epoch 456/600\n",
            "14/14 [==============================] - 0s 4ms/step - loss: 0.0147 - val_loss: 0.1338\n",
            "Epoch 457/600\n",
            "14/14 [==============================] - 0s 4ms/step - loss: 0.0172 - val_loss: 0.1484\n",
            "Epoch 458/600\n",
            "14/14 [==============================] - 0s 4ms/step - loss: 0.0122 - val_loss: 0.1393\n",
            "Epoch 459/600\n",
            "14/14 [==============================] - 0s 5ms/step - loss: 0.0097 - val_loss: 0.1426\n",
            "Epoch 460/600\n",
            "14/14 [==============================] - 0s 4ms/step - loss: 0.0124 - val_loss: 0.1518\n",
            "Epoch 461/600\n",
            "14/14 [==============================] - 0s 5ms/step - loss: 0.0086 - val_loss: 0.1414\n",
            "Epoch 462/600\n",
            "14/14 [==============================] - 0s 4ms/step - loss: 0.0108 - val_loss: 0.1419\n",
            "Epoch 463/600\n",
            "14/14 [==============================] - 0s 4ms/step - loss: 0.0108 - val_loss: 0.1578\n",
            "Epoch 464/600\n",
            "14/14 [==============================] - 0s 4ms/step - loss: 0.0118 - val_loss: 0.1445\n",
            "Epoch 465/600\n",
            "14/14 [==============================] - 0s 4ms/step - loss: 0.0085 - val_loss: 0.1544\n",
            "Epoch 466/600\n",
            "14/14 [==============================] - 0s 4ms/step - loss: 0.0114 - val_loss: 0.1723\n",
            "Epoch 467/600\n",
            "14/14 [==============================] - 0s 4ms/step - loss: 0.0144 - val_loss: 0.1457\n",
            "Epoch 468/600\n",
            "14/14 [==============================] - 0s 4ms/step - loss: 0.0104 - val_loss: 0.1420\n",
            "Epoch 469/600\n",
            "14/14 [==============================] - 0s 4ms/step - loss: 0.0090 - val_loss: 0.1534\n",
            "Epoch 470/600\n",
            "14/14 [==============================] - 0s 4ms/step - loss: 0.0083 - val_loss: 0.1689\n",
            "Epoch 471/600\n",
            "14/14 [==============================] - 0s 5ms/step - loss: 0.0124 - val_loss: 0.1433\n",
            "Epoch 472/600\n",
            "14/14 [==============================] - 0s 5ms/step - loss: 0.0081 - val_loss: 0.1752\n",
            "Epoch 473/600\n",
            "14/14 [==============================] - 0s 4ms/step - loss: 0.0096 - val_loss: 0.1381\n",
            "Epoch 474/600\n",
            "14/14 [==============================] - 0s 5ms/step - loss: 0.0114 - val_loss: 0.1572\n",
            "Epoch 475/600\n",
            "14/14 [==============================] - 0s 4ms/step - loss: 0.0108 - val_loss: 0.1492\n",
            "Epoch 476/600\n",
            "14/14 [==============================] - 0s 5ms/step - loss: 0.0079 - val_loss: 0.1468\n",
            "Epoch 477/600\n",
            "14/14 [==============================] - 0s 4ms/step - loss: 0.0101 - val_loss: 0.1418\n",
            "Epoch 478/600\n",
            "14/14 [==============================] - 0s 5ms/step - loss: 0.0118 - val_loss: 0.1417\n",
            "Epoch 479/600\n",
            "14/14 [==============================] - 0s 4ms/step - loss: 0.0125 - val_loss: 0.1578\n",
            "Epoch 480/600\n",
            "14/14 [==============================] - 0s 4ms/step - loss: 0.0080 - val_loss: 0.1479\n",
            "Epoch 481/600\n",
            "14/14 [==============================] - 0s 4ms/step - loss: 0.0094 - val_loss: 0.1469\n",
            "Epoch 482/600\n",
            "14/14 [==============================] - 0s 4ms/step - loss: 0.0089 - val_loss: 0.1745\n",
            "Epoch 483/600\n",
            "14/14 [==============================] - 0s 4ms/step - loss: 0.0116 - val_loss: 0.1441\n",
            "Epoch 484/600\n",
            "14/14 [==============================] - 0s 4ms/step - loss: 0.0069 - val_loss: 0.1716\n",
            "Epoch 485/600\n",
            "14/14 [==============================] - 0s 5ms/step - loss: 0.0092 - val_loss: 0.1420\n",
            "Epoch 486/600\n",
            "14/14 [==============================] - 0s 4ms/step - loss: 0.0103 - val_loss: 0.1934\n",
            "Epoch 487/600\n",
            "14/14 [==============================] - 0s 5ms/step - loss: 0.0077 - val_loss: 0.1385\n",
            "Epoch 488/600\n",
            "14/14 [==============================] - 0s 4ms/step - loss: 0.0125 - val_loss: 0.1669\n",
            "Epoch 489/600\n",
            "14/14 [==============================] - 0s 5ms/step - loss: 0.0090 - val_loss: 0.1576\n",
            "Epoch 490/600\n",
            "14/14 [==============================] - 0s 4ms/step - loss: 0.0097 - val_loss: 0.1435\n",
            "Epoch 491/600\n",
            "14/14 [==============================] - 0s 5ms/step - loss: 0.0107 - val_loss: 0.1514\n",
            "Epoch 492/600\n",
            "14/14 [==============================] - 0s 4ms/step - loss: 0.0066 - val_loss: 0.1763\n",
            "Epoch 493/600\n",
            "14/14 [==============================] - 0s 4ms/step - loss: 0.0090 - val_loss: 0.1395\n",
            "Epoch 494/600\n",
            "14/14 [==============================] - 0s 4ms/step - loss: 0.0077 - val_loss: 0.1805\n",
            "Epoch 495/600\n",
            "14/14 [==============================] - 0s 4ms/step - loss: 0.0083 - val_loss: 0.1497\n",
            "Epoch 496/600\n",
            "14/14 [==============================] - 0s 4ms/step - loss: 0.0095 - val_loss: 0.1388\n",
            "Epoch 497/600\n",
            "14/14 [==============================] - 0s 5ms/step - loss: 0.0063 - val_loss: 0.1679\n",
            "Epoch 498/600\n",
            "14/14 [==============================] - 0s 4ms/step - loss: 0.0068 - val_loss: 0.1407\n",
            "Epoch 499/600\n",
            "14/14 [==============================] - 0s 4ms/step - loss: 0.0099 - val_loss: 0.1518\n",
            "Epoch 500/600\n",
            "14/14 [==============================] - 0s 12ms/step - loss: 0.0113 - val_loss: 0.1587\n",
            "Epoch 501/600\n",
            "14/14 [==============================] - 0s 5ms/step - loss: 0.0077 - val_loss: 0.1438\n",
            "Epoch 502/600\n",
            "14/14 [==============================] - 0s 4ms/step - loss: 0.0097 - val_loss: 0.1606\n",
            "Epoch 503/600\n",
            "14/14 [==============================] - 0s 4ms/step - loss: 0.0067 - val_loss: 0.1500\n",
            "Epoch 504/600\n",
            "14/14 [==============================] - 0s 4ms/step - loss: 0.0080 - val_loss: 0.1514\n",
            "Epoch 505/600\n",
            "14/14 [==============================] - 0s 5ms/step - loss: 0.0073 - val_loss: 0.1720\n",
            "Epoch 506/600\n",
            "14/14 [==============================] - 0s 5ms/step - loss: 0.0079 - val_loss: 0.1409\n",
            "Epoch 507/600\n",
            "14/14 [==============================] - 0s 4ms/step - loss: 0.0067 - val_loss: 0.1671\n",
            "Epoch 508/600\n",
            "14/14 [==============================] - 0s 4ms/step - loss: 0.0097 - val_loss: 0.1470\n",
            "Epoch 509/600\n",
            "14/14 [==============================] - 0s 4ms/step - loss: 0.0063 - val_loss: 0.1524\n",
            "Epoch 510/600\n",
            "14/14 [==============================] - 0s 4ms/step - loss: 0.0083 - val_loss: 0.1505\n",
            "Epoch 511/600\n",
            "14/14 [==============================] - 0s 4ms/step - loss: 0.0108 - val_loss: 0.1441\n",
            "Epoch 512/600\n",
            "14/14 [==============================] - 0s 4ms/step - loss: 0.0108 - val_loss: 0.1496\n",
            "Epoch 513/600\n",
            "14/14 [==============================] - 0s 4ms/step - loss: 0.0063 - val_loss: 0.1652\n",
            "Epoch 514/600\n",
            "14/14 [==============================] - 0s 4ms/step - loss: 0.0098 - val_loss: 0.1497\n",
            "Epoch 515/600\n",
            "14/14 [==============================] - 0s 4ms/step - loss: 0.0099 - val_loss: 0.1505\n",
            "Epoch 516/600\n",
            "14/14 [==============================] - 0s 5ms/step - loss: 0.0076 - val_loss: 0.1588\n",
            "Epoch 517/600\n",
            "14/14 [==============================] - 0s 4ms/step - loss: 0.0093 - val_loss: 0.1456\n",
            "Epoch 518/600\n",
            "14/14 [==============================] - 0s 4ms/step - loss: 0.0074 - val_loss: 0.1541\n",
            "Epoch 519/600\n",
            "14/14 [==============================] - 0s 4ms/step - loss: 0.0060 - val_loss: 0.1628\n",
            "Epoch 520/600\n",
            "14/14 [==============================] - 0s 4ms/step - loss: 0.0058 - val_loss: 0.1439\n",
            "Epoch 521/600\n",
            "14/14 [==============================] - 0s 5ms/step - loss: 0.0109 - val_loss: 0.1743\n",
            "Epoch 522/600\n",
            "14/14 [==============================] - 0s 4ms/step - loss: 0.0142 - val_loss: 0.2112\n",
            "Epoch 523/600\n",
            "14/14 [==============================] - 0s 4ms/step - loss: 0.0090 - val_loss: 0.1472\n",
            "Epoch 524/600\n",
            "14/14 [==============================] - 0s 4ms/step - loss: 0.0082 - val_loss: 0.1653\n",
            "Epoch 525/600\n",
            "14/14 [==============================] - 0s 4ms/step - loss: 0.0099 - val_loss: 0.1440\n",
            "Epoch 526/600\n",
            "14/14 [==============================] - 0s 4ms/step - loss: 0.0125 - val_loss: 0.2516\n",
            "Epoch 527/600\n",
            "14/14 [==============================] - 0s 4ms/step - loss: 0.0251 - val_loss: 0.1463\n",
            "Epoch 528/600\n",
            "14/14 [==============================] - 0s 5ms/step - loss: 0.0107 - val_loss: 0.1871\n",
            "Epoch 529/600\n",
            "14/14 [==============================] - 0s 5ms/step - loss: 0.0082 - val_loss: 0.1621\n",
            "Epoch 530/600\n",
            "14/14 [==============================] - 0s 4ms/step - loss: 0.0079 - val_loss: 0.1466\n",
            "Epoch 531/600\n",
            "14/14 [==============================] - 0s 5ms/step - loss: 0.0097 - val_loss: 0.1550\n",
            "Epoch 532/600\n",
            "14/14 [==============================] - 0s 4ms/step - loss: 0.0076 - val_loss: 0.1561\n",
            "Epoch 533/600\n",
            "14/14 [==============================] - 0s 4ms/step - loss: 0.0105 - val_loss: 0.1465\n",
            "Epoch 534/600\n",
            "14/14 [==============================] - 0s 5ms/step - loss: 0.0082 - val_loss: 0.1652\n",
            "Epoch 535/600\n",
            "14/14 [==============================] - 0s 5ms/step - loss: 0.0062 - val_loss: 0.1524\n",
            "Epoch 536/600\n",
            "14/14 [==============================] - 0s 4ms/step - loss: 0.0062 - val_loss: 0.1900\n",
            "Epoch 537/600\n",
            "14/14 [==============================] - 0s 4ms/step - loss: 0.0059 - val_loss: 0.1501\n",
            "Epoch 538/600\n",
            "14/14 [==============================] - 0s 4ms/step - loss: 0.0060 - val_loss: 0.1665\n",
            "Epoch 539/600\n",
            "14/14 [==============================] - 0s 5ms/step - loss: 0.0074 - val_loss: 0.1556\n",
            "Epoch 540/600\n",
            "14/14 [==============================] - 0s 4ms/step - loss: 0.0051 - val_loss: 0.1595\n",
            "Epoch 541/600\n",
            "14/14 [==============================] - 0s 5ms/step - loss: 0.0067 - val_loss: 0.1634\n",
            "Epoch 542/600\n",
            "14/14 [==============================] - 0s 5ms/step - loss: 0.0080 - val_loss: 0.1617\n",
            "Epoch 543/600\n",
            "14/14 [==============================] - 0s 4ms/step - loss: 0.0048 - val_loss: 0.1515\n",
            "Epoch 544/600\n",
            "14/14 [==============================] - 0s 4ms/step - loss: 0.0067 - val_loss: 0.1588\n",
            "Epoch 545/600\n",
            "14/14 [==============================] - 0s 4ms/step - loss: 0.0068 - val_loss: 0.1692\n",
            "Epoch 546/600\n",
            "14/14 [==============================] - 0s 4ms/step - loss: 0.0037 - val_loss: 0.1654\n",
            "Epoch 547/600\n",
            "14/14 [==============================] - 0s 5ms/step - loss: 0.0054 - val_loss: 0.1567\n",
            "Epoch 548/600\n",
            "14/14 [==============================] - 0s 4ms/step - loss: 0.0072 - val_loss: 0.1547\n",
            "Epoch 549/600\n",
            "14/14 [==============================] - 0s 5ms/step - loss: 0.0052 - val_loss: 0.1823\n",
            "Epoch 550/600\n",
            "14/14 [==============================] - 0s 4ms/step - loss: 0.0057 - val_loss: 0.1497\n",
            "Epoch 551/600\n",
            "14/14 [==============================] - 0s 4ms/step - loss: 0.0059 - val_loss: 0.1742\n",
            "Epoch 552/600\n",
            "14/14 [==============================] - 0s 4ms/step - loss: 0.0064 - val_loss: 0.1772\n",
            "Epoch 553/600\n",
            "14/14 [==============================] - 0s 4ms/step - loss: 0.0069 - val_loss: 0.1728\n",
            "Epoch 554/600\n",
            "14/14 [==============================] - 0s 4ms/step - loss: 0.0052 - val_loss: 0.1623\n",
            "Epoch 555/600\n",
            "14/14 [==============================] - 0s 4ms/step - loss: 0.0060 - val_loss: 0.1651\n",
            "Epoch 556/600\n",
            "14/14 [==============================] - 0s 5ms/step - loss: 0.0057 - val_loss: 0.1594\n",
            "Epoch 557/600\n",
            "14/14 [==============================] - 0s 5ms/step - loss: 0.0041 - val_loss: 0.1615\n",
            "Epoch 558/600\n",
            "14/14 [==============================] - 0s 4ms/step - loss: 0.0056 - val_loss: 0.1654\n",
            "Epoch 559/600\n",
            "14/14 [==============================] - 0s 5ms/step - loss: 0.0085 - val_loss: 0.1489\n",
            "Epoch 560/600\n",
            "14/14 [==============================] - 0s 12ms/step - loss: 0.0066 - val_loss: 0.1940\n",
            "Epoch 561/600\n",
            "14/14 [==============================] - 0s 4ms/step - loss: 0.0074 - val_loss: 0.1652\n",
            "Epoch 562/600\n",
            "14/14 [==============================] - 0s 4ms/step - loss: 0.0058 - val_loss: 0.1585\n",
            "Epoch 563/600\n",
            "14/14 [==============================] - 0s 4ms/step - loss: 0.0043 - val_loss: 0.1960\n",
            "Epoch 564/600\n",
            "14/14 [==============================] - 0s 4ms/step - loss: 0.0082 - val_loss: 0.1516\n",
            "Epoch 565/600\n",
            "14/14 [==============================] - 0s 4ms/step - loss: 0.0074 - val_loss: 0.2285\n",
            "Epoch 566/600\n",
            "14/14 [==============================] - 0s 4ms/step - loss: 0.0164 - val_loss: 0.1609\n",
            "Epoch 567/600\n",
            "14/14 [==============================] - 0s 5ms/step - loss: 0.0047 - val_loss: 0.1721\n",
            "Epoch 568/600\n",
            "14/14 [==============================] - 0s 5ms/step - loss: 0.0055 - val_loss: 0.1528\n",
            "Epoch 569/600\n",
            "14/14 [==============================] - 0s 5ms/step - loss: 0.0083 - val_loss: 0.1799\n",
            "Epoch 570/600\n",
            "14/14 [==============================] - 0s 5ms/step - loss: 0.0041 - val_loss: 0.1553\n",
            "Epoch 571/600\n",
            "14/14 [==============================] - 0s 5ms/step - loss: 0.0053 - val_loss: 0.1613\n",
            "Epoch 572/600\n",
            "14/14 [==============================] - 0s 5ms/step - loss: 0.0044 - val_loss: 0.1621\n",
            "Epoch 573/600\n",
            "14/14 [==============================] - 0s 5ms/step - loss: 0.0072 - val_loss: 0.1632\n",
            "Epoch 574/600\n",
            "14/14 [==============================] - 0s 5ms/step - loss: 0.0085 - val_loss: 0.1987\n",
            "Epoch 575/600\n",
            "14/14 [==============================] - 0s 5ms/step - loss: 0.0048 - val_loss: 0.1611\n",
            "Epoch 576/600\n",
            "14/14 [==============================] - 0s 4ms/step - loss: 0.0048 - val_loss: 0.1874\n",
            "Epoch 577/600\n",
            "14/14 [==============================] - 0s 5ms/step - loss: 0.0067 - val_loss: 0.1662\n",
            "Epoch 578/600\n",
            "14/14 [==============================] - 0s 4ms/step - loss: 0.0058 - val_loss: 0.1652\n",
            "Epoch 579/600\n",
            "14/14 [==============================] - 0s 4ms/step - loss: 0.0052 - val_loss: 0.1624\n",
            "Epoch 580/600\n",
            "14/14 [==============================] - 0s 4ms/step - loss: 0.0057 - val_loss: 0.1615\n",
            "Epoch 581/600\n",
            "14/14 [==============================] - 0s 5ms/step - loss: 0.0042 - val_loss: 0.1930\n",
            "Epoch 582/600\n",
            "14/14 [==============================] - 0s 4ms/step - loss: 0.0051 - val_loss: 0.1570\n",
            "Epoch 583/600\n",
            "14/14 [==============================] - 0s 5ms/step - loss: 0.0057 - val_loss: 0.1723\n",
            "Epoch 584/600\n",
            "14/14 [==============================] - 0s 4ms/step - loss: 0.0042 - val_loss: 0.1774\n",
            "Epoch 585/600\n",
            "14/14 [==============================] - 0s 4ms/step - loss: 0.0052 - val_loss: 0.1598\n",
            "Epoch 586/600\n",
            "14/14 [==============================] - 0s 4ms/step - loss: 0.0047 - val_loss: 0.1611\n",
            "Epoch 587/600\n",
            "14/14 [==============================] - 0s 4ms/step - loss: 0.0031 - val_loss: 0.1787\n",
            "Epoch 588/600\n",
            "14/14 [==============================] - 0s 4ms/step - loss: 0.0056 - val_loss: 0.1634\n",
            "Epoch 589/600\n",
            "14/14 [==============================] - 0s 5ms/step - loss: 0.0042 - val_loss: 0.1642\n",
            "Epoch 590/600\n",
            "14/14 [==============================] - 0s 4ms/step - loss: 0.0059 - val_loss: 0.1621\n",
            "Epoch 591/600\n",
            "14/14 [==============================] - 0s 4ms/step - loss: 0.0041 - val_loss: 0.1774\n",
            "Epoch 592/600\n",
            "14/14 [==============================] - 0s 5ms/step - loss: 0.0044 - val_loss: 0.1795\n",
            "Epoch 593/600\n",
            "14/14 [==============================] - 0s 4ms/step - loss: 0.0042 - val_loss: 0.1733\n",
            "Epoch 594/600\n",
            "14/14 [==============================] - 0s 4ms/step - loss: 0.0041 - val_loss: 0.1777\n",
            "Epoch 595/600\n",
            "14/14 [==============================] - 0s 4ms/step - loss: 0.0056 - val_loss: 0.1676\n",
            "Epoch 596/600\n",
            "14/14 [==============================] - 0s 4ms/step - loss: 0.0055 - val_loss: 0.1598\n",
            "Epoch 597/600\n",
            "14/14 [==============================] - 0s 4ms/step - loss: 0.0080 - val_loss: 0.1905\n",
            "Epoch 598/600\n",
            "14/14 [==============================] - 0s 4ms/step - loss: 0.0056 - val_loss: 0.1937\n",
            "Epoch 599/600\n",
            "14/14 [==============================] - 0s 4ms/step - loss: 0.0054 - val_loss: 0.1572\n",
            "Epoch 600/600\n",
            "14/14 [==============================] - 0s 4ms/step - loss: 0.0041 - val_loss: 0.1837\n"
          ],
          "name": "stdout"
        },
        {
          "output_type": "execute_result",
          "data": {
            "text/plain": [
              "<tensorflow.python.keras.callbacks.History at 0x7f95a8f3fba8>"
            ]
          },
          "metadata": {
            "tags": []
          },
          "execution_count": 67
        }
      ]
    },
    {
      "cell_type": "markdown",
      "metadata": {
        "id": "iAD_JMIQIALr"
      },
      "source": [
        "#**Evaluate Performance**"
      ]
    },
    {
      "cell_type": "code",
      "metadata": {
        "id": "qZS32It8IqTO"
      },
      "source": [
        "from sklearn.metrics import classification_report,confusion_matrix"
      ],
      "execution_count": 68,
      "outputs": []
    },
    {
      "cell_type": "code",
      "metadata": {
        "id": "PaNRvNhOG7SP"
      },
      "source": [
        "model_loss = pd.DataFrame(model.history.history)"
      ],
      "execution_count": 69,
      "outputs": []
    },
    {
      "cell_type": "code",
      "metadata": {
        "colab": {
          "base_uri": "https://localhost:8080/",
          "height": 284
        },
        "id": "8-KqklYvIz-D",
        "outputId": "ae8bb482-b489-4d20-8da7-6706c9885cce"
      },
      "source": [
        "model_loss.plot()\r\n",
        "#slight overfitting observed"
      ],
      "execution_count": 70,
      "outputs": [
        {
          "output_type": "execute_result",
          "data": {
            "text/plain": [
              "<matplotlib.axes._subplots.AxesSubplot at 0x7f95a5b78da0>"
            ]
          },
          "metadata": {
            "tags": []
          },
          "execution_count": 70
        },
        {
          "output_type": "display_data",
          "data": {
            "image/png": "[encoded data removed]",
            "text/plain": [
              "<Figure size 432x288 with 1 Axes>"
            ]
          },
          "metadata": {
            "tags": [],
            "needs_background": "light"
          }
        }
      ]
    },
    {
      "cell_type": "code",
      "metadata": {
        "colab": {
          "base_uri": "https://localhost:8080/"
        },
        "id": "oLFfNNXoIJj7",
        "outputId": "461acb8b-94ac-41d1-f388-222f8025c223"
      },
      "source": [
        "predictions = model.predict_classes(X_test)"
      ],
      "execution_count": 55,
      "outputs": [
        {
          "output_type": "stream",
          "text": [
            "/usr/local/lib/python3.6/dist-packages/tensorflow/python/keras/engine/sequential.py:450: UserWarning: `model.predict_classes()` is deprecated and will be removed after 2021-01-01. Please use instead:* `np.argmax(model.predict(x), axis=-1)`,   if your model does multi-class classification   (e.g. if it uses a `softmax` last-layer activation).* `(model.predict(x) > 0.5).astype(\"int32\")`,   if your model does binary classification   (e.g. if it uses a `sigmoid` last-layer activation).\n",
            "  warnings.warn('`model.predict_classes()` is deprecated and '\n"
          ],
          "name": "stderr"
        }
      ]
    },
    {
      "cell_type": "code",
      "metadata": {
        "colab": {
          "base_uri": "https://localhost:8080/"
        },
        "id": "FPAdptjzIjz1",
        "outputId": "5c8a6632-bb89-4c1e-c5da-830db7cbcdb3"
      },
      "source": [
        "print(classification_report(y_test,predictions))\r\n",
        "#want to maximize accuracy"
      ],
      "execution_count": 71,
      "outputs": [
        {
          "output_type": "stream",
          "text": [
            "              precision    recall  f1-score   support\n",
            "\n",
            "           0       0.87      0.98      0.92        55\n",
            "           1       0.99      0.91      0.95        88\n",
            "\n",
            "    accuracy                           0.94       143\n",
            "   macro avg       0.93      0.95      0.93       143\n",
            "weighted avg       0.94      0.94      0.94       143\n",
            "\n"
          ],
          "name": "stdout"
        }
      ]
    },
    {
      "cell_type": "code",
      "metadata": {
        "id": "Yhku5Y0aIniW"
      },
      "source": [
        "columns = [\"Actually Positive\", \"Actually Negative\"]\r\n",
        "rows  = [\"Predicted Positive\", \"Predicted Negative\"]"
      ],
      "execution_count": 75,
      "outputs": []
    },
    {
      "cell_type": "code",
      "metadata": {
        "id": "TcoWkEgHMLtd"
      },
      "source": [
        "confusion = pd.DataFrame(confusion_matrix(y_test,predictions), index=rows, columns=columns)\r\n",
        "confusion_desc = pd.DataFrame([[\"True Positives\", \"False Positives\"],[\"False Negatives\", \"True Negatives\"]])"
      ],
      "execution_count": 86,
      "outputs": []
    },
    {
      "cell_type": "code",
      "metadata": {
        "colab": {
          "base_uri": "https://localhost:8080/",
          "height": 112
        },
        "id": "wO-bEO6ENDz7",
        "outputId": "c97710ae-c333-4803-9d81-97c8ba0d0e48"
      },
      "source": [
        "confusion\r\n",
        "# based on the nature of the classification, we might want more false positives than false negatives, or vice versa"
      ],
      "execution_count": 84,
      "outputs": [
        {
          "output_type": "execute_result",
          "data": {
            "text/html": [
              "<div>\n",
              "<style scoped>\n",
              "    .dataframe tbody tr th:only-of-type {\n",
              "        vertical-align: middle;\n",
              "    }\n",
              "\n",
              "    .dataframe tbody tr th {\n",
              "        vertical-align: top;\n",
              "    }\n",
              "\n",
              "    .dataframe thead th {\n",
              "        text-align: right;\n",
              "    }\n",
              "</style>\n",
              "<table border=\"1\" class=\"dataframe\">\n",
              "  <thead>\n",
              "    <tr style=\"text-align: right;\">\n",
              "      <th></th>\n",
              "      <th>Actually Positive</th>\n",
              "      <th>Actually Negative</th>\n",
              "    </tr>\n",
              "  </thead>\n",
              "  <tbody>\n",
              "    <tr>\n",
              "      <th>Predicted Positive</th>\n",
              "      <td>54</td>\n",
              "      <td>1</td>\n",
              "    </tr>\n",
              "    <tr>\n",
              "      <th>Predicted Negative</th>\n",
              "      <td>8</td>\n",
              "      <td>80</td>\n",
              "    </tr>\n",
              "  </tbody>\n",
              "</table>\n",
              "</div>"
            ],
            "text/plain": [
              "                    Actually Positive  Actually Negative\n",
              "Predicted Positive                 54                  1\n",
              "Predicted Negative                  8                 80"
            ]
          },
          "metadata": {
            "tags": []
          },
          "execution_count": 84
        }
      ]
    },
    {
      "cell_type": "code",
      "metadata": {
        "colab": {
          "base_uri": "https://localhost:8080/",
          "height": 112
        },
        "id": "OgliozVtPzNq",
        "outputId": "3c3746e2-9c1e-4aca-94db-0d32ac0dfd20"
      },
      "source": [
        "confusion_desc"
      ],
      "execution_count": 85,
      "outputs": [
        {
          "output_type": "execute_result",
          "data": {
            "text/html": [
              "<div>\n",
              "<style scoped>\n",
              "    .dataframe tbody tr th:only-of-type {\n",
              "        vertical-align: middle;\n",
              "    }\n",
              "\n",
              "    .dataframe tbody tr th {\n",
              "        vertical-align: top;\n",
              "    }\n",
              "\n",
              "    .dataframe thead th {\n",
              "        text-align: right;\n",
              "    }\n",
              "</style>\n",
              "<table border=\"1\" class=\"dataframe\">\n",
              "  <thead>\n",
              "    <tr style=\"text-align: right;\">\n",
              "      <th></th>\n",
              "      <th>0</th>\n",
              "      <th>1</th>\n",
              "    </tr>\n",
              "  </thead>\n",
              "  <tbody>\n",
              "    <tr>\n",
              "      <th>0</th>\n",
              "      <td>True Positives</td>\n",
              "      <td>False Positives</td>\n",
              "    </tr>\n",
              "    <tr>\n",
              "      <th>1</th>\n",
              "      <td>False Negatives</td>\n",
              "      <td>True Negatives</td>\n",
              "    </tr>\n",
              "  </tbody>\n",
              "</table>\n",
              "</div>"
            ],
            "text/plain": [
              "                 0                1\n",
              "0   True Positives  False Positives\n",
              "1  False Negatives   True Negatives"
            ]
          },
          "metadata": {
            "tags": []
          },
          "execution_count": 85
        }
      ]
    }
  ]
}